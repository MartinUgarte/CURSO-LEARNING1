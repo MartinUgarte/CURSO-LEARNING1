{
  "cells": [
    {
      "cell_type": "markdown",
      "source": [
        "###1) ECM"
      ],
      "metadata": {
        "id": "LWmqTnZXgv0o"
      }
    },
    {
      "cell_type": "code",
      "execution_count": null,
      "metadata": {
        "colab": {
          "base_uri": "https://localhost:8080/"
        },
        "id": "FU0Ely73BYEw",
        "outputId": "b51bb421-f368-45e6-cb34-aacd4f4ccc3f"
      },
      "outputs": [
        {
          "output_type": "stream",
          "name": "stdout",
          "text": [
            "El EMC es:  4086560101.205658\n"
          ]
        }
      ],
      "source": [
        "from urllib import request\n",
        "import numpy as np\n",
        "import matplotlib.pyplot as plt\n",
        "\n",
        "example1_url=\"https://raw.githubusercontent.com/CSC-CONICET/CURSO-LEARNING1/main/datasets/inmobiliaria.txt\"\n",
        "f = request.urlopen(example1_url)\n",
        "dataset = np.loadtxt(f, dtype=int, delimiter=\",\")\n",
        "\n",
        "# Genero columnas de superficie/cantidad de habitaciones y precio segun el dataset\n",
        "superficie = np.reshape(np.array(dataset[:,0]), (len(dataset), 1))\n",
        "habitaciones = np.reshape(np.array(dataset[:,1]), (len(dataset), 1))\n",
        "precios_reales = np.array(dataset[:,2])\n",
        "\n",
        "# Uno las columnas de superficie y cantidad de habitaciones\n",
        "sup_hab = np.append(superficie, habitaciones, axis = 1)\n",
        "\n",
        "# Genero columna de unos\n",
        "unos = np.ones((len(dataset), 1))\n",
        "\n",
        "# Uno la columna de unos con la matriz de superficies y habitaciones\n",
        "x = np.append(unos, sup_hab, axis = 1)\n",
        "\n",
        "# Obtengo la pseudoinversa de esa matriz\n",
        "x_inv = np.linalg.pinv(x)\n",
        "\n",
        "# Calculo w estrella\n",
        "w_estrella = np.dot(np.dot(np.linalg.inv(np.dot(x.transpose(), x)), x.transpose()), precios_reales)\n",
        "\n",
        "b = w_estrella[0]\n",
        "w_superficie = w_estrella[1]\n",
        "w_habitaciones = w_estrella[2]\n",
        "\n",
        "# CAlculo la columna de ganancia predicha\n",
        "precios_predichos = np.dot(x, w_estrella)\n",
        "\n",
        "# Calculo el error cuadratico medio\n",
        "emc = (np.square(precios_reales - precios_predichos)).mean()\n",
        "print(\"El EMC es: \", emc)"
      ]
    },
    {
      "cell_type": "markdown",
      "source": [
        "###2) Prediccion de un valor a partir de w y b"
      ],
      "metadata": {
        "id": "iiIXQxRvg3Mw"
      }
    },
    {
      "cell_type": "code",
      "execution_count": null,
      "metadata": {
        "colab": {
          "base_uri": "https://localhost:8080/"
        },
        "id": "O3FJetuBT_qp",
        "outputId": "49da5777-792a-4b1d-d51e-48fdb5761a87"
      },
      "outputs": [
        {
          "name": "stdout",
          "output_type": "stream",
          "text": [
            "EL precio estimado para una superficie de 1650 y 3 habitaciones es:  293081.46433489583\n"
          ]
        }
      ],
      "source": [
        "y = w_superficie * 1650 + w_habitaciones * 3 + b\n",
        "print(\"EL precio estimado para una superficie de 1650 y 3 habitaciones es: \", y)"
      ]
    },
    {
      "cell_type": "markdown",
      "source": [
        "###3) Graficar el problema de optimización en 3-D (bias - weight y Risk) para todos los theta posibles"
      ],
      "metadata": {
        "id": "1-wdXzf6g7gd"
      }
    },
    {
      "cell_type": "markdown",
      "source": [
        "###4) Resolver el problema con GD"
      ],
      "metadata": {
        "id": "2oUceQKBhB7j"
      }
    },
    {
      "cell_type": "code",
      "execution_count": null,
      "metadata": {
        "colab": {
          "base_uri": "https://localhost:8080/"
        },
        "id": "dH5P8VDOUqSz",
        "outputId": "b823fb6b-e5e9-4d73-b75d-e9dbcc227ced"
      },
      "outputs": [
        {
          "output_type": "stream",
          "name": "stdout",
          "text": [
            "Model: \"sequential_18\"\n",
            "_________________________________________________________________\n",
            " Layer (type)                Output Shape              Param #   \n",
            "=================================================================\n",
            " dense_18 (Dense)            (None, 1)                 3         \n",
            "                                                                 \n",
            "=================================================================\n",
            "Total params: 3\n",
            "Trainable params: 3\n",
            "Non-trainable params: 0\n",
            "_________________________________________________________________\n",
            "2000.6808510638298\n",
            "Epoch 1/10000\n",
            "1/1 [==============================] - 0s 162ms/step - loss: 131183362048.0000\n",
            "Epoch 2/10000\n",
            "1/1 [==============================] - 0s 10ms/step - loss: 7603492352.0000\n",
            "Epoch 3/10000\n",
            "1/1 [==============================] - 0s 10ms/step - loss: 5189341184.0000\n",
            "Epoch 4/10000\n",
            "1/1 [==============================] - 0s 9ms/step - loss: 4432350720.0000\n",
            "Epoch 5/10000\n",
            "1/1 [==============================] - 0s 8ms/step - loss: 4194987520.0000\n",
            "Epoch 6/10000\n",
            "1/1 [==============================] - 0s 9ms/step - loss: 4120558592.0000\n",
            "Epoch 7/10000\n",
            "1/1 [==============================] - 0s 6ms/step - loss: 4097220352.0000\n",
            "Epoch 8/10000\n",
            "1/1 [==============================] - 0s 10ms/step - loss: 4089903104.0000\n",
            "Epoch 9/10000\n",
            "1/1 [==============================] - 0s 7ms/step - loss: 4087608320.0000\n",
            "Epoch 10/10000\n",
            "1/1 [==============================] - 0s 5ms/step - loss: 4086888704.0000\n",
            "Epoch 11/10000\n",
            "1/1 [==============================] - 0s 5ms/step - loss: 4086663680.0000\n",
            "Epoch 12/10000\n",
            "1/1 [==============================] - 0s 6ms/step - loss: 4086592000.0000\n",
            "Epoch 13/10000\n",
            "1/1 [==============================] - 0s 7ms/step - loss: 4086570496.0000\n",
            "Epoch 14/10000\n",
            "1/1 [==============================] - 0s 6ms/step - loss: 4086563072.0000\n",
            "Epoch 15/10000\n",
            "1/1 [==============================] - 0s 5ms/step - loss: 4086561536.0000\n",
            "Epoch 16/10000\n",
            "1/1 [==============================] - 0s 5ms/step - loss: 4086560256.0000\n",
            "Epoch 17/10000\n",
            "1/1 [==============================] - 0s 5ms/step - loss: 4086560000.0000\n",
            "Epoch 18/10000\n",
            "1/1 [==============================] - 0s 5ms/step - loss: 4086560000.0000\n"
          ]
        }
      ],
      "source": [
        "import tensorflow as tf\n",
        "\n",
        "model = tf.keras.Sequential()\n",
        "model.add(tf.keras.layers.Dense(1, input_dim=2)) # cambio el input a 2 dimensiones (superficies y habitaciones)\n",
        "\n",
        "model.summary()\n",
        "\n",
        "# Sin stopping\n",
        "# Debo normalizar la entrada porque sino le costará converger al modelo cuando hay dos entradas\n",
        "superficie_normalizado = np.divide((np.subtract(superficie, superficie.mean())), superficie.std())   # std es el desvio estandar\n",
        "habitaciones_normalizado = np.divide((np.subtract(habitaciones, habitaciones.mean())), habitaciones.std())\n",
        "\n",
        "# Uno las columnas de superficie y cantidad de habitaciones normalizadas\n",
        "sup_hab_normalizado = np.append(superficie_normalizado, habitaciones_normalizado, axis = 1)\n",
        "\n",
        "\"\"\"\n",
        "# Sin EarlyStopping\n",
        "model.compile(optimizer=tf.keras.optimizers.SGD(learning_rate=0.002),loss='MeanSquaredError')\n",
        "hist = model.fit(x=sup_hab_normalizado, y=precios_reales, batch_size = 47, epochs= 10000)\n",
        "\"\"\"\n",
        "\n",
        "# Hasta convergencia\n",
        "es = tf.keras.callbacks.EarlyStopping(monitor='loss', patience=1)                             # EarlyStopping: determino cuando pare el algoritmo\n",
        "model.compile(optimizer=tf.keras.optimizers.SGD(learning_rate=0.5), loss = 'MeanSquaredError')\n",
        "hist = model.fit(x=sup_hab_normalizado, y=precios_reales, batch_size = 47, epochs=10000,callbacks=[es]) # Batch_size: tamaño de la muestra"
      ]
    },
    {
      "cell_type": "markdown",
      "source": [
        "###5) Plotear riesgo vs epochs"
      ],
      "metadata": {
        "id": "57-9PfnOjbvu"
      }
    },
    {
      "cell_type": "code",
      "execution_count": null,
      "metadata": {
        "id": "ilUaLZD4ZDo6",
        "colab": {
          "base_uri": "https://localhost:8080/",
          "height": 290
        },
        "outputId": "93b4d0af-3160-4998-b43e-d4cae0e126df"
      },
      "outputs": [
        {
          "output_type": "display_data",
          "data": {
            "text/plain": [
              "<Figure size 432x288 with 1 Axes>"
            ],
            "image/png": "[encoded data removed]"
          },
          "metadata": {
            "needs_background": "light"
          }
        }
      ],
      "source": [
        "# Grafico de riesgo (loss - emc) vs epoch\n",
        "losses = np.array(hist.history['loss'])                                                       # losses es una lista con los errores cometidos en cada epoch\n",
        "param = model.get_weights()\n",
        "\n",
        "epochs = np.arange(1, 19, 1)\n",
        "plt.plot(epochs,losses)\n",
        "plt.xlabel(\"Epoch\")\n",
        "plt.ylabel(\"Loss\")\n",
        "plt.show()"
      ]
    }
  ],
  "metadata": {
    "accelerator": "GPU",
    "colab": {
      "provenance": [],
      "collapsed_sections": []
    },
    "gpuClass": "standard",
    "kernelspec": {
      "display_name": "Python 3",
      "name": "python3"
    },
    "language_info": {
      "name": "python"
    }
  },
  "nbformat": 4,
  "nbformat_minor": 0
}