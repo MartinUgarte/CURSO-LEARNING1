{
  "nbformat": 4,
  "nbformat_minor": 0,
  "metadata": {
    "colab": {
      "provenance": []
    },
    "kernelspec": {
      "name": "python3",
      "display_name": "Python 3"
    },
    "language_info": {
      "name": "python"
    }
  },
  "cells": [
    {
      "cell_type": "markdown",
      "source": [
        "###1) Varíen la cantidad de componentes principales con las que se quedan, para graficar el error cuadrático medio en función de la cantidad de componentes principales. Repita el mismo procedimiento para el porcentaje de energía"
      ],
      "metadata": {
        "id": "dtggDqzv_xSe"
      }
    },
    {
      "cell_type": "code",
      "source": [
        "import tensorflow as tf\n",
        "from urllib import request\n",
        "import numpy as np\n",
        "import matplotlib.pyplot as plt\n",
        "\n",
        "example1_url=\"https://raw.githubusercontent.com/CSC-CONICET/CURSO-LEARNING1/main/datasets/prostata_label.csv\"\n",
        "f = request.urlopen(example1_url)\n",
        "dataset1 = np.loadtxt(f, dtype=str, delimiter=\",\", skiprows=1)\n",
        "\n",
        "example2_url=\"https://raw.githubusercontent.com/CSC-CONICET/CURSO-LEARNING1/main/datasets/prostata_data.csv\"\n",
        "f = request.urlopen(example2_url)\n",
        "dataset2 = np.loadtxt(f, dtype=str, delimiter=\",\", skiprows=1)\n",
        "\n",
        "def curar_datos(dataset):\n",
        "  return dataset[:,1] != ''\n",
        "\n",
        "labels_dataset = dataset1[curar_datos(dataset1)]\n",
        "conc_dataset = dataset2[curar_datos(dataset1)]\n",
        "\n",
        "x_train_str = conc_dataset[:,1:]\n",
        "y_train_str = labels_dataset[:,1]\n",
        "\n",
        "outputs = {\n",
        "    \"healthy\": 0,\n",
        "    \"cancer\": 1,\n",
        "    \"post-surgery\": 2,\n",
        "    \"benign\": 3\n",
        "}\n",
        "\n",
        "Y = np.array([])\n",
        "for cat in y_train_str:\n",
        "  Y = np.append(Y, outputs[cat])\n",
        "\n",
        "X = x_train_str.astype(float)"
      ],
      "metadata": {
        "id": "58LBOr19AFlD"
      },
      "execution_count": null,
      "outputs": []
    },
    {
      "cell_type": "markdown",
      "source": [
        "Normalización sin varianza"
      ],
      "metadata": {
        "id": "ZdbFhcBJA19C"
      }
    },
    {
      "cell_type": "code",
      "source": [
        "n,dx=np.shape(X)\n",
        "medias = np.mean(X,axis=0)\n",
        "X0=X-medias"
      ],
      "metadata": {
        "id": "bQRrdySBA3Rx"
      },
      "execution_count": null,
      "outputs": []
    },
    {
      "cell_type": "markdown",
      "source": [
        "Error cuadrático medio para cada dimensión"
      ],
      "metadata": {
        "id": "XwYeT1B6BSMZ"
      }
    },
    {
      "cell_type": "code",
      "source": [
        "from sklearn import decomposition\n",
        "\n",
        "dims = list(np.arange(1,100))\n",
        "ecm = []\n",
        "for dim in range(1,100):\n",
        "  pca = decomposition.PCA(n_components=dim)\n",
        "  pca.fit(X0)\n",
        "  U = pca.transform(X0)\n",
        "  Xh = pca.inverse_transform(U)\n",
        "  ECM = np.sum((X0-Xh)**2)/n\n",
        "  ecm.append(ECM)\n",
        "\n",
        "plt.scatter(dims, ecm, c= \"blue\")\n",
        "plt.xlabel(\"Dimensión\")\n",
        "plt.ylabel(\"EMC\")\n",
        "plt.show()"
      ],
      "metadata": {
        "colab": {
          "base_uri": "https://localhost:8080/",
          "height": 290
        },
        "id": "nfaGiWYyBUDI",
        "outputId": "3a1d59b9-9588-4df8-cc58-fd218100563d"
      },
      "execution_count": null,
      "outputs": [
        {
          "output_type": "display_data",
          "data": {
            "text/plain": [
              "<Figure size 432x288 with 1 Axes>"
            ],
            "image/png": "[encoded data removed]"
          },
          "metadata": {
            "needs_background": "light"
          }
        }
      ]
    },
    {
      "cell_type": "markdown",
      "source": [
        "Porcentaje de energía"
      ],
      "metadata": {
        "id": "4Q5p3b3eCk7H"
      }
    },
    {
      "cell_type": "code",
      "source": [
        "pca = decomposition.PCA(n_components=99) # 99 componentes principales\n",
        "pca.fit(X0)\n",
        "U = pca.transform(X0) \n",
        "Xh = pca.inverse_transform(U)\n",
        "ave = pca.components_\n",
        "ava = pca.explained_variance_\n",
        "\n",
        "energia_autovalores = []\n",
        "autovalores = []\n",
        "for autovalor in ava:\n",
        "  autovalores.append(autovalor)\n",
        "  energia_autovalores.append(sum(autovalores) / sum(ava))\n",
        "\n",
        "plt.scatter(dims, energia_autovalores, c= \"blue\")\n",
        "plt.xlabel(\"Dimensión\")\n",
        "plt.ylabel(\"Porcentaje de energía\")\n",
        "plt.show()"
      ],
      "metadata": {
        "colab": {
          "base_uri": "https://localhost:8080/",
          "height": 279
        },
        "id": "-v-TY07KCmGv",
        "outputId": "52a21241-28df-467b-e377-ba243461a836"
      },
      "execution_count": null,
      "outputs": [
        {
          "output_type": "display_data",
          "data": {
            "text/plain": [
              "<Figure size 432x288 with 1 Axes>"
            ],
            "image/png": "[encoded data removed]"
          },
          "metadata": {
            "needs_background": "light"
          }
        }
      ]
    },
    {
      "cell_type": "markdown",
      "source": [
        "###2) Grafique las dos componentes principales, marcando con colores distintos cada clase. ¿Que clase aparenta ser más fácil de clasificar?\n"
      ],
      "metadata": {
        "id": "B1rvjenRDFp9"
      }
    },
    {
      "cell_type": "code",
      "source": [
        "for name, label in [(\"healthy\", 0), (\"cancer\", 1), (\"post-surgery\", 2), (\"benign\", 3)]:\n",
        "  plt.plot(U[Y==label,0],U[Y==label,1],'x',label=name)\n",
        "plt.legend()  \n",
        "plt.show()  "
      ],
      "metadata": {
        "colab": {
          "base_uri": "https://localhost:8080/",
          "height": 265
        },
        "id": "2yoQ31QaDKX2",
        "outputId": "24500021-90aa-4243-bf90-bd6565a516cd"
      },
      "execution_count": null,
      "outputs": [
        {
          "output_type": "display_data",
          "data": {
            "text/plain": [
              "<Figure size 432x288 with 1 Axes>"
            ],
            "image/png": "[encoded data removed]"
          },
          "metadata": {
            "needs_background": "light"
          }
        }
      ]
    },
    {
      "cell_type": "markdown",
      "source": [
        "La clase que aparenta ser más facil de clasificar son los de cancer."
      ],
      "metadata": {
        "id": "DFZeHDlzKjfE"
      }
    }
  ]
}