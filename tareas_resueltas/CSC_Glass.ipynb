{
  "cells": [
    {
      "cell_type": "markdown",
      "metadata": {
        "id": "0p0ZhdQowOOY"
      },
      "source": [
        "###Clasificar a donde pertenecía el vidrio a partir de la concentración de los diferentes elementos químicos que posee. Las clases de vidrio posibles son:\n",
        "\n",
        "\n",
        "*   Building windows float processed\n",
        "*   Building windows non float processed\n",
        "*   Vehicle windows float processed\n",
        "*   Vehicle windows non float processed\n",
        "*   Containers\n",
        "*   Tableware\n",
        "*   Headlamps\n",
        "\n",
        "\n",
        "\n",
        "\n",
        "\n",
        "\n"
      ]
    },
    {
      "cell_type": "markdown",
      "metadata": {
        "id": "Fh9E4cAFxCVH"
      },
      "source": [
        "###1) *Curado de datos:* observar bien los labels de este dataset y acomodarlo para que keras lo interprete correctamente"
      ]
    },
    {
      "cell_type": "code",
      "execution_count": null,
      "metadata": {
        "colab": {
          "base_uri": "https://localhost:8080/"
        },
        "id": "DU8ZfEaevETf",
        "outputId": "85e710fe-4a29-49fd-e8f8-bd4d34c5d8d7"
      },
      "outputs": [
        {
          "name": "stdout",
          "output_type": "stream",
          "text": [
            "[[ 1.52101 13.64     4.49    ...  0.       0.       0.     ]\n",
            " [ 1.51761 13.89     3.6     ...  0.       0.       0.     ]\n",
            " [ 1.51618 13.53     3.55    ...  0.       0.       0.     ]\n",
            " ...\n",
            " [ 1.52065 14.36     0.      ...  1.64     0.       6.     ]\n",
            " [ 1.51651 14.38     0.      ...  1.57     0.       6.     ]\n",
            " [ 1.51711 14.23     0.      ...  1.67     0.       6.     ]]\n"
          ]
        }
      ],
      "source": [
        "import tensorflow as tf\n",
        "from urllib import request\n",
        "import numpy as np\n",
        "import matplotlib.pyplot as plt\n",
        "\n",
        "example1_url=\"https://raw.githubusercontent.com/CSC-CONICET/CURSO-LEARNING1/main/datasets/glass.csv\"\n",
        "f = request.urlopen(example1_url)\n",
        "dataset = np.loadtxt(f, dtype=float, delimiter=\",\", skiprows=1)\n",
        "\n",
        "def curar_datos(dataset):\n",
        "  long = len(dataset[0])\n",
        "  dataset[:, long-1] -= 1     # Son 7 clases pero en el dataset solo figuran 6. Para que Keras lo interprete bien uso de 0 a 6.\n",
        "\n",
        "curar_datos(dataset)\n",
        "print(dataset)"
      ]
    },
    {
      "cell_type": "markdown",
      "metadata": {
        "id": "3MdtmCJaxbbm"
      },
      "source": [
        "###2) Pensar cuantos parámetros se necesitarán para resolver esta tarea con una activación softmax. Crear el modelo y chequear con el comando summary que efectivamente se haya construido el modelo deseado."
      ]
    },
    {
      "cell_type": "code",
      "execution_count": null,
      "metadata": {
        "colab": {
          "base_uri": "https://localhost:8080/"
        },
        "id": "rbqOqQUtxeM-",
        "outputId": "1746d019-cd9a-4334-ea2f-9edd0fb58e41"
      },
      "outputs": [
        {
          "name": "stdout",
          "output_type": "stream",
          "text": [
            "Model: \"sequential\"\n",
            "_________________________________________________________________\n",
            " Layer (type)                Output Shape              Param #   \n",
            "=================================================================\n",
            " dense (Dense)               (None, 7)                 70        \n",
            "                                                                 \n",
            "=================================================================\n",
            "Total params: 70\n",
            "Trainable params: 70\n",
            "Non-trainable params: 0\n",
            "_________________________________________________________________\n"
          ]
        }
      ],
      "source": [
        "model = tf.keras.Sequential()\n",
        "model.add(tf.keras.layers.Dense(7, input_dim=9))\n",
        "model.summary()"
      ]
    },
    {
      "cell_type": "markdown",
      "metadata": {
        "id": "3TVU7hs0xeqP"
      },
      "source": [
        "###3) Usando \"loss=tf.keras.losses.SparseCategoricalCrossentropy(from_logits=True)\", programar con keras el GD. Indicar el learning rate, el patience del early stopping, el riesgo empírico finalmente alcanzado y el correspondiente accuracy"
      ]
    },
    {
      "cell_type": "code",
      "execution_count": null,
      "metadata": {
        "colab": {
          "base_uri": "https://localhost:8080/"
        },
        "id": "fTo5IwPOxjPt",
        "outputId": "734a735e-53dc-44af-e5a9-2991f710c192"
      },
      "outputs": [
        {
          "output_type": "stream",
          "name": "stdout",
          "text": [
            "[[ 1.52101 13.64     4.49    ...  8.75     0.       0.     ]\n",
            " [ 1.51761 13.89     3.6     ...  7.83     0.       0.     ]\n",
            " [ 1.51618 13.53     3.55    ...  7.78     0.       0.     ]\n",
            " ...\n",
            " [ 1.52065 14.36     0.      ...  8.44     1.64     0.     ]\n",
            " [ 1.51651 14.38     0.      ...  8.48     1.57     0.     ]\n",
            " [ 1.51711 14.23     0.      ...  8.62     1.67     0.     ]]\n",
            "Epoch 1/10000\n",
            "1/1 [==============================] - 0s 272ms/step - loss: 1.0767 - accuracy: 0.4860\n",
            "Epoch 2/10000\n",
            "1/1 [==============================] - 0s 11ms/step - loss: 1.0767 - accuracy: 0.4860\n",
            "Epoch 3/10000\n",
            "1/1 [==============================] - 0s 10ms/step - loss: 1.0767 - accuracy: 0.4860\n",
            "Epoch 4/10000\n",
            "1/1 [==============================] - 0s 8ms/step - loss: 1.0766 - accuracy: 0.4860\n",
            "Epoch 5/10000\n",
            "1/1 [==============================] - 0s 7ms/step - loss: 1.0766 - accuracy: 0.4860\n",
            "Epoch 6/10000\n",
            "1/1 [==============================] - 0s 9ms/step - loss: 1.0766 - accuracy: 0.4860\n",
            "Epoch 7/10000\n",
            "1/1 [==============================] - 0s 12ms/step - loss: 1.0765 - accuracy: 0.4860\n",
            "Epoch 8/10000\n",
            "1/1 [==============================] - 0s 10ms/step - loss: 1.0765 - accuracy: 0.4860\n",
            "Epoch 9/10000\n",
            "1/1 [==============================] - 0s 8ms/step - loss: 1.0765 - accuracy: 0.4860\n",
            "Epoch 10/10000\n",
            "1/1 [==============================] - 0s 8ms/step - loss: 1.0764 - accuracy: 0.4860\n",
            "Epoch 11/10000\n",
            "1/1 [==============================] - 0s 9ms/step - loss: 1.0764 - accuracy: 0.4766\n",
            "Epoch 12/10000\n",
            "1/1 [==============================] - 0s 10ms/step - loss: 1.0764 - accuracy: 0.4720\n",
            "Epoch 13/10000\n",
            "1/1 [==============================] - 0s 10ms/step - loss: 1.0763 - accuracy: 0.4813\n",
            "Epoch 14/10000\n",
            "1/1 [==============================] - 0s 11ms/step - loss: 1.0765 - accuracy: 0.5047\n"
          ]
        }
      ],
      "source": [
        "x_train = dataset[:, 0:9]\n",
        "y_train = dataset[:, 9]\n",
        "print(x_train)\n",
        "\n",
        "es = tf.keras.callbacks.EarlyStopping(monitor='loss', patience=1)                             \n",
        "model.compile(optimizer=tf.keras.optimizers.SGD(learning_rate=0.002), loss=tf.keras.losses.SparseCategoricalCrossentropy(from_logits=True), metrics=[\"accuracy\"])\n",
        "hist = model.fit(x=x_train, y=y_train, batch_size = 214, epochs=10000,callbacks=[es])"
      ]
    },
    {
      "cell_type": "markdown",
      "metadata": {
        "id": "VnZ9o9rbxP0-"
      },
      "source": [
        "El learning rate elegido fue 0.0008\n",
        "Patient del early stopping fue 1\n",
        "Loss fue de: 1.13141\n",
        "Accuracy fue de: 0.4346"
      ]
    },
    {
      "cell_type": "markdown",
      "metadata": {
        "id": "bO7j-yC1xjks"
      },
      "source": [
        "###4) Crear una función que clasifique vidrios, devolviendo el string correspondiente del tipo de vidrio. Pruebelo para (1,52; 13; 3,5; 1,2; 73; 0,6; 9; 0,1; 0,2)"
      ]
    },
    {
      "cell_type": "code",
      "execution_count": null,
      "metadata": {
        "colab": {
          "base_uri": "https://localhost:8080/"
        },
        "id": "nEvf1L7FxnAO",
        "outputId": "ec180635-7635-4848-8aa3-73dd191780f3"
      },
      "outputs": [
        {
          "output_type": "stream",
          "name": "stdout",
          "text": [
            "El vidrio pertenece a clase:  [1]\n"
          ]
        }
      ],
      "source": [
        "def clasificar_vidrio(entrada):\n",
        "  prediccion = model.predict(entrada)\n",
        "  arg_max = np.argmax(prediccion, axis=1)\n",
        "  return arg_max\n",
        "\n",
        "print(\"El vidrio pertenece a clase: \", clasificar_vidrio(np.array([1.52, 13, 3.5, 1.2, 73, 0.6, 9, 0.1, 0.2]).reshape(1,9)))"
      ]
    },
    {
      "cell_type": "markdown",
      "metadata": {
        "id": "Pm2cOWAixnWt"
      },
      "source": [
        "###5) Mostrar la confusion matrix. Puede usar \"sklearn.metrics.confusion_matrix\"."
      ]
    },
    {
      "cell_type": "code",
      "execution_count": null,
      "metadata": {
        "colab": {
          "base_uri": "https://localhost:8080/",
          "height": 580
        },
        "id": "CVqhonwbxqEM",
        "outputId": "0e6b0f46-70ca-46e8-d13d-e1506c517c7f"
      },
      "outputs": [
        {
          "output_type": "display_data",
          "data": {
            "text/plain": [
              "<Figure size 720x720 with 2 Axes>"
            ],
            "image/png": "[encoded data removed]"
          },
          "metadata": {
            "needs_background": "light"
          }
        }
      ],
      "source": [
        "from sklearn.metrics import ConfusionMatrixDisplay\n",
        "\n",
        "y_test = clasificar_vidrio(x_train)\n",
        "\n",
        "# Plot confusion matrix\n",
        "fig, ax = plt.subplots(1,1,figsize=(10,10))\n",
        "dsp = ConfusionMatrixDisplay.from_predictions(y_train,y_test,display_labels=[\"0\", \"1\", \"2\", \"3\", \"4\", \"5\", \"6\"],ax=ax)"
      ]
    }
  ],
  "metadata": {
    "colab": {
      "collapsed_sections": [],
      "provenance": []
    },
    "kernelspec": {
      "display_name": "Python 3",
      "name": "python3"
    },
    "language_info": {
      "name": "python"
    }
  },
  "nbformat": 4,
  "nbformat_minor": 0
}