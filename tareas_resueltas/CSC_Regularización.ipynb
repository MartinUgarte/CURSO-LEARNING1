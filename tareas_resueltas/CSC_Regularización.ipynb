{
  "nbformat": 4,
  "nbformat_minor": 0,
  "metadata": {
    "colab": {
      "provenance": [],
      "collapsed_sections": []
    },
    "kernelspec": {
      "name": "python3",
      "display_name": "Python 3"
    },
    "language_info": {
      "name": "python"
    }
  },
  "cells": [
    {
      "cell_type": "markdown",
      "source": [
        "### Autoencoder"
      ],
      "metadata": {
        "id": "0IFH3uMi3vLM"
      }
    },
    {
      "cell_type": "markdown",
      "source": [
        "Con FASHION-MNIST construir un autoencoder (utilizar la base de datos como entrenamiento/validación)"
      ],
      "metadata": {
        "id": "gtMsgRWG3yyZ"
      }
    },
    {
      "cell_type": "markdown",
      "source": [
        "1) Al finalizar reportar error cuadrático medio de validación."
      ],
      "metadata": {
        "id": "d2HfIDSf33P5"
      }
    },
    {
      "cell_type": "code",
      "execution_count": 1,
      "metadata": {
        "id": "t6cYfDkb3aJ5",
        "colab": {
          "base_uri": "https://localhost:8080/"
        },
        "outputId": "38d1a0f7-0748-48fc-d8b3-8de3a35189a2"
      },
      "outputs": [
        {
          "output_type": "stream",
          "name": "stdout",
          "text": [
            "Downloading data from https://storage.googleapis.com/tensorflow/tf-keras-datasets/train-labels-idx1-ubyte.gz\n",
            "29515/29515 [==============================] - 0s 0us/step\n",
            "Downloading data from https://storage.googleapis.com/tensorflow/tf-keras-datasets/train-images-idx3-ubyte.gz\n",
            "26421880/26421880 [==============================] - 0s 0us/step\n",
            "Downloading data from https://storage.googleapis.com/tensorflow/tf-keras-datasets/t10k-labels-idx1-ubyte.gz\n",
            "5148/5148 [==============================] - 0s 0us/step\n",
            "Downloading data from https://storage.googleapis.com/tensorflow/tf-keras-datasets/t10k-images-idx3-ubyte.gz\n",
            "4422102/4422102 [==============================] - 0s 0us/step\n"
          ]
        }
      ],
      "source": [
        "import tensorflow as tf\n",
        "from urllib import request\n",
        "import numpy as np\n",
        "import matplotlib.pyplot as plt\n",
        "from keras.utils import np_utils\n",
        "from sklearn import decomposition\n",
        "\n",
        "fashion_mnist = tf.keras.datasets.fashion_mnist\n",
        "(train_images, train_labels), (validation_images, validation_labels) = fashion_mnist.load_data()"
      ]
    },
    {
      "cell_type": "markdown",
      "source": [
        "Normalización"
      ],
      "metadata": {
        "id": "iEQqzz1YKt5r"
      }
    },
    {
      "cell_type": "code",
      "source": [
        "media = np.mean(train_images,axis=0)\n",
        "desvio = np.std(train_images,axis=0)\n",
        "train_images = (train_images - media)/desvio\n",
        "ntr = train_images.shape[0] \n",
        "dx = train_images.shape[1]*train_images.shape[2] \n",
        "validation_images = (validation_images - media)/desvio\n",
        "\n",
        "# No hacia falta esto si uso Flatten"
      ],
      "metadata": {
        "id": "bf6vP-NvKu8t"
      },
      "execution_count": 2,
      "outputs": []
    },
    {
      "cell_type": "markdown",
      "source": [
        "Inicializaciones"
      ],
      "metadata": {
        "id": "dBKkt5B-K3CM"
      }
    },
    {
      "cell_type": "code",
      "source": [
        "batchsize = 256\n",
        "num_epochs = 10\n",
        "n_hidden_units = 128\n",
        "model = tf.keras.Sequential()\n",
        "model.add(tf.keras.layers.Input(shape=(28,28)))\n",
        "model.add(tf.keras.layers.Flatten())\n",
        "model.add(tf.keras.layers.Dense(n_hidden_units, activation='relu',kernel_initializer='GlorotNormal'))\n",
        "model.add(tf.keras.layers.Dense(dx,kernel_initializer='HeNormal'))\n",
        "model.add(tf.keras.layers.Reshape((28, 28), input_shape=(dx,)))\n",
        "model.summary()"
      ],
      "metadata": {
        "colab": {
          "base_uri": "https://localhost:8080/"
        },
        "id": "nXsJ_Zh_K4S6",
        "outputId": "1983f3c9-12b5-4be7-c9b9-6aaf30e062d5"
      },
      "execution_count": 3,
      "outputs": [
        {
          "output_type": "stream",
          "name": "stdout",
          "text": [
            "Model: \"sequential\"\n",
            "_________________________________________________________________\n",
            " Layer (type)                Output Shape              Param #   \n",
            "=================================================================\n",
            " flatten (Flatten)           (None, 784)               0         \n",
            "                                                                 \n",
            " dense (Dense)               (None, 128)               100480    \n",
            "                                                                 \n",
            " dense_1 (Dense)             (None, 784)               101136    \n",
            "                                                                 \n",
            " reshape (Reshape)           (None, 28, 28)            0         \n",
            "                                                                 \n",
            "=================================================================\n",
            "Total params: 201,616\n",
            "Trainable params: 201,616\n",
            "Non-trainable params: 0\n",
            "_________________________________________________________________\n"
          ]
        }
      ]
    },
    {
      "cell_type": "code",
      "source": [
        "def step_decay(epoch):\n",
        "   if epoch < 2:\n",
        "     lrate = 0.01\n",
        "   else:\n",
        "     lrate = 0.001 \n",
        "   return lrate\n",
        "   \n",
        "lrate = tf.keras.callbacks.LearningRateScheduler(step_decay)\n",
        "model.compile(optimizer=tf.keras.optimizers.Adam(),loss='MeanSquaredError')\n",
        "hist = model.fit(x=train_images, y=train_images, batch_size = batchsize, epochs=num_epochs, callbacks = [lrate], validation_data=(validation_images,validation_images)) "
      ],
      "metadata": {
        "colab": {
          "base_uri": "https://localhost:8080/"
        },
        "id": "xwDqgMX_MrmB",
        "outputId": "95d5559f-8319-49db-93e8-b5c71276954c"
      },
      "execution_count": 4,
      "outputs": [
        {
          "output_type": "stream",
          "name": "stdout",
          "text": [
            "Epoch 1/10\n",
            "235/235 [==============================] - 4s 13ms/step - loss: 0.6975 - val_loss: 0.4125 - lr: 0.0100\n",
            "Epoch 2/10\n",
            "235/235 [==============================] - 3s 12ms/step - loss: 0.4699 - val_loss: 0.2760 - lr: 0.0100\n",
            "Epoch 3/10\n",
            "235/235 [==============================] - 3s 13ms/step - loss: 0.2444 - val_loss: 0.2560 - lr: 0.0010\n",
            "Epoch 4/10\n",
            "235/235 [==============================] - 3s 12ms/step - loss: 0.2318 - val_loss: 0.2448 - lr: 0.0010\n",
            "Epoch 5/10\n",
            "235/235 [==============================] - 3s 13ms/step - loss: 0.2211 - val_loss: 0.2346 - lr: 0.0010\n",
            "Epoch 6/10\n",
            "235/235 [==============================] - 3s 12ms/step - loss: 0.2110 - val_loss: 0.2250 - lr: 0.0010\n",
            "Epoch 7/10\n",
            "235/235 [==============================] - 3s 12ms/step - loss: 0.2019 - val_loss: 0.2161 - lr: 0.0010\n",
            "Epoch 8/10\n",
            "235/235 [==============================] - 5s 20ms/step - loss: 0.1936 - val_loss: 0.2084 - lr: 0.0010\n",
            "Epoch 9/10\n",
            "235/235 [==============================] - 3s 13ms/step - loss: 0.1861 - val_loss: 0.2010 - lr: 0.0010\n",
            "Epoch 10/10\n",
            "235/235 [==============================] - 3s 12ms/step - loss: 0.1794 - val_loss: 0.1939 - lr: 0.0010\n"
          ]
        }
      ]
    },
    {
      "cell_type": "markdown",
      "source": [
        "2) Guardar el modelo en un archivo h5 (lo van a necesitar mas tarde)."
      ],
      "metadata": {
        "id": "f06csCFl6jRW"
      }
    },
    {
      "cell_type": "code",
      "source": [
        "!pip install pyyaml h5py\n",
        "model.save('./mymodel.h5')"
      ],
      "metadata": {
        "colab": {
          "base_uri": "https://localhost:8080/"
        },
        "id": "vYF7lkSu6l2U",
        "outputId": "05d056e7-d251-48a9-92ed-e1ef2d9c69b4"
      },
      "execution_count": null,
      "outputs": [
        {
          "output_type": "stream",
          "name": "stdout",
          "text": [
            "Looking in indexes: https://pypi.org/simple, https://us-python.pkg.dev/colab-wheels/public/simple/\n",
            "Requirement already satisfied: pyyaml in /usr/local/lib/python3.7/dist-packages (6.0)\n",
            "Requirement already satisfied: h5py in /usr/local/lib/python3.7/dist-packages (3.1.0)\n",
            "Requirement already satisfied: numpy>=1.14.5 in /usr/local/lib/python3.7/dist-packages (from h5py) (1.21.6)\n",
            "Requirement already satisfied: cached-property in /usr/local/lib/python3.7/dist-packages (from h5py) (1.5.2)\n"
          ]
        }
      ]
    },
    {
      "cell_type": "markdown",
      "source": [
        "3) A partir del error cuadrático construya un detector de anomalías (sin volver a\n",
        "entrenar). Reportar el Equal-Error-Rate en el conjunto de datos resultante de\n",
        "combinar los datos de validación de FASHION-MNIST con los de MNIST (20000\n",
        "muestras en total)."
      ],
      "metadata": {
        "id": "fDAzATw87AZ8"
      }
    },
    {
      "cell_type": "code",
      "source": [
        "plt.plot(hist.history[\"loss\"], label=\"Pérdida set entrenamiento\")\n",
        "plt.plot(hist.history[\"val_loss\"], label=\"Pérdida set prueba\")\n",
        "plt.legend();"
      ],
      "metadata": {
        "colab": {
          "base_uri": "https://localhost:8080/",
          "height": 265
        },
        "id": "sWxJKKh3XzQy",
        "outputId": "6b0c0b04-dbee-4dcc-8a6e-ac16ca8c52d4"
      },
      "execution_count": 5,
      "outputs": [
        {
          "output_type": "display_data",
          "data": {
            "text/plain": [
              "<Figure size 432x288 with 1 Axes>"
            ],
            "image/png": "[encoded data removed]"
          },
          "metadata": {
            "needs_background": "light"
          }
        }
      ]
    },
    {
      "cell_type": "code",
      "source": [
        "mnist = tf.keras.datasets.mnist\n",
        "(X_mnist_train, Y_mnist_train), (mnist_validation_images, mnist_validation_labels) = mnist.load_data()\n",
        "\n",
        "# Normalizo MNIST usando la media y el desvio anterior\n",
        "mnist_validation_images = (mnist_validation_images - media)/desvio\n",
        "\n",
        "W = np.concatenate((mnist_validation_images, validation_images))\n",
        "#Z = np.concatenate((mnist_validation_labels, validation_labels))"
      ],
      "metadata": {
        "id": "W3ZW6nVib9st",
        "colab": {
          "base_uri": "https://localhost:8080/"
        },
        "outputId": "9d8c4c04-e5af-4570-dbd0-6a389ddb56df"
      },
      "execution_count": 6,
      "outputs": [
        {
          "output_type": "stream",
          "name": "stdout",
          "text": [
            "Downloading data from https://storage.googleapis.com/tensorflow/tf-keras-datasets/mnist.npz\n",
            "11490434/11490434 [==============================] - 0s 0us/step\n"
          ]
        }
      ]
    },
    {
      "cell_type": "code",
      "source": [
        "plt.figure(figsize=(10,10))\n",
        "for i in range(25):\n",
        "  plt.subplot(5,5,i+1)\n",
        "  plt.xticks([])\n",
        "  plt.yticks([])\n",
        "  plt.grid(False)\n",
        "  img_index = np.random.randint(0, W.shape[0])\n",
        "  plt.imshow(W[img_index], cmap=\"gray_r\")"
      ],
      "metadata": {
        "colab": {
          "base_uri": "https://localhost:8080/",
          "height": 578
        },
        "id": "jazeUyNYcnRc",
        "outputId": "56415504-847c-448f-caa4-955d1b4697fc"
      },
      "execution_count": null,
      "outputs": [
        {
          "output_type": "display_data",
          "data": {
            "text/plain": [
              "<Figure size 720x720 with 25 Axes>"
            ],
            "image/png": "[encoded data removed]"
          },
          "metadata": {}
        }
      ]
    },
    {
      "cell_type": "code",
      "source": [
        "W.shape"
      ],
      "metadata": {
        "colab": {
          "base_uri": "https://localhost:8080/"
        },
        "id": "-Qf17xhHc3Qr",
        "outputId": "23bc0aa3-66a2-4009-bd05-3bd4ab325d11"
      },
      "execution_count": null,
      "outputs": [
        {
          "output_type": "execute_result",
          "data": {
            "text/plain": [
              "(20000, 28, 28)"
            ]
          },
          "metadata": {},
          "execution_count": 10
        }
      ]
    },
    {
      "cell_type": "code",
      "source": [
        "from sklearn.metrics import ConfusionMatrixDisplay\n",
        "images_predicted = model.predict(W)"
      ],
      "metadata": {
        "id": "yc-2phBXfQLw",
        "colab": {
          "base_uri": "https://localhost:8080/"
        },
        "outputId": "db237810-7d69-4313-fc0c-415a44ff5dbf"
      },
      "execution_count": 7,
      "outputs": [
        {
          "output_type": "stream",
          "name": "stdout",
          "text": [
            "625/625 [==============================] - 2s 2ms/step\n"
          ]
        }
      ]
    },
    {
      "cell_type": "code",
      "source": [
        "def rates(images_predicted, umbral_start, umbral_end, umbral_steps, ecm):\n",
        "  # True Positive = la verdad es positiva, y la prediccion positiva\n",
        "  # True Negative = la verdad es negativa, y la prediccion negativa\n",
        "  # False Negative = la verdad es positiva, y la prediccion negativa\n",
        "  # Falso Positivo = la verdad es negativa, y la prediccion positiva\n",
        "  # False Positive Rate: FPR = FP/FP + TN\n",
        "  # False Negative RAte: FNR = FN/FN + TP\n",
        "  # True Positive RAte: TPR = TP/TP + FN\n",
        "  # True Negative Rate: TNR = TN/TN + FP\n",
        "\n",
        "  FPR = []\n",
        "  FNR = []\n",
        "  TPR = []\n",
        "  TNR = []\n",
        "  \n",
        "  mask = np.full((20000), True)\n",
        "  mask[0:10000] = False             # Mascara para indicar los que tienen False son anomalias \n",
        "  mask = mask.reshape(20000, 1)\n",
        "\n",
        "  for i in np.arange(umbral_start, umbral_end, umbral_steps): # La mascara es la realidad y la comparacion es prediccion. No es anomalia => positivo\n",
        "    TP = np.sum((ecm < i) & mask)           # TP = Aquellos cuyo ecm es menor al umbral y no son anomalias (True en la mascara)\n",
        "    TN = np.sum((ecm >= i) & (mask == False))      \n",
        "    FN = np.sum((ecm >= i) & mask)     \n",
        "    FP = np.sum((ecm < i) & (mask == False))          \n",
        "\n",
        "    FPR.append(FP/(FP + TN))\n",
        "    FNR.append(FN/(FN + TP))\n",
        "    TPR.append(TP/(TP + FN))\n",
        "    TNR.append(TN/(TN + FP))\n",
        "\n",
        "  return FPR, FNR, TPR, TNR\n",
        "\n",
        "W = W.reshape(W.shape[0], 28 * 28)\n",
        "images_predicted = images_predicted.reshape(images_predicted.shape[0], 28 * 28)\n",
        "ec = np.sum((W - images_predicted )**2, axis = 1)\n",
        "ec = ec.reshape(20000, 1)\n",
        "\n",
        "FPR, FNR, TPR, TNR = rates(images_predicted, np.min(ec), np.max(ec), 1, ec)\n",
        "\n",
        "# Sensibilidad: la probabilidad de que el modelo prediga un resultado positivo para una observación cuando en realidad el resultado es positivo. \n",
        "# Especificidad: La probabilidad de que el modelo prediga un resultado negativo para una observación cuando en realidad el resultado es negativo.\n",
        "\n",
        "fig, ax = plt.subplots()\n",
        "ax.plot(FPR, TPR)\n",
        "plt.show()\n",
        "\n"
      ],
      "metadata": {
        "colab": {
          "base_uri": "https://localhost:8080/",
          "height": 265
        },
        "id": "H81R8PDHdj85",
        "outputId": "c14dd6a2-23c5-4541-c0c7-e15c3fe8ae76"
      },
      "execution_count": 8,
      "outputs": [
        {
          "output_type": "display_data",
          "data": {
            "text/plain": [
              "<Figure size 432x288 with 1 Axes>"
            ],
            "image/png": "[encoded data removed]"
          },
          "metadata": {
            "needs_background": "light"
          }
        }
      ]
    },
    {
      "cell_type": "code",
      "source": [
        "# Equal Error Rate\n",
        "k = np.argmin((np.subtract(FPR,FNR))**2)\n",
        "err = FPR[k]\n",
        "print(err)"
      ],
      "metadata": {
        "colab": {
          "base_uri": "https://localhost:8080/"
        },
        "id": "18rN3C7_dG1W",
        "outputId": "83f174f7-40b3-4603-bd15-9ed21cbcdcd2"
      },
      "execution_count": 9,
      "outputs": [
        {
          "output_type": "stream",
          "name": "stdout",
          "text": [
            "0.1261\n"
          ]
        }
      ]
    },
    {
      "cell_type": "markdown",
      "source": [
        "4) Obtenga los valores de las unidades de menor dimensión de su autoencoder tanto\n",
        "para entrenamiento como para validación (FASHION-MNIST). Con ellos construya\n",
        "una nueva base de datos y guarde los data-frames."
      ],
      "metadata": {
        "id": "lwDngpPe7C3s"
      }
    },
    {
      "cell_type": "code",
      "source": [
        "# Debo crear una base de datos con la salida de la capa oculta de dimensión 128 del modelo\n",
        "\n",
        "# Defino nuevo modelo\n",
        "encoder = tf.keras.Sequential()\n",
        "encoder.add(tf.keras.layers.Input(shape=(28,28)))\n",
        "encoder.add(tf.keras.layers.Flatten())\n",
        "encoder.add(tf.keras.layers.Dense(n_hidden_units, activation='relu',kernel_initializer='GlorotNormal'))\n",
        "encoder.summary()\n"
      ],
      "metadata": {
        "colab": {
          "base_uri": "https://localhost:8080/"
        },
        "id": "mKRGBp41EJCz",
        "outputId": "0a70b7ae-72a3-4a3e-cf82-aac19bf0a5f9"
      },
      "execution_count": 12,
      "outputs": [
        {
          "output_type": "stream",
          "name": "stdout",
          "text": [
            "Model: \"sequential_1\"\n",
            "_________________________________________________________________\n",
            " Layer (type)                Output Shape              Param #   \n",
            "=================================================================\n",
            " flatten_1 (Flatten)         (None, 784)               0         \n",
            "                                                                 \n",
            " dense_2 (Dense)             (None, 128)               100480    \n",
            "                                                                 \n",
            "=================================================================\n",
            "Total params: 100,480\n",
            "Trainable params: 100,480\n",
            "Non-trainable params: 0\n",
            "_________________________________________________________________\n"
          ]
        }
      ]
    },
    {
      "cell_type": "code",
      "source": [
        "# Recupero los pesos del primer modelo\n",
        "encoder.set_weights(model.layers[1].get_weights())\n",
        "\n",
        "# Guardo el modelo\n",
        "encoder.save('./encoder.h5')\n",
        "\n",
        "train_units = encoder.predict(train_images)\n",
        "validation_units = encoder.predict(validation_images)\n"
      ],
      "metadata": {
        "colab": {
          "base_uri": "https://localhost:8080/"
        },
        "id": "Xbd-zJ07Wcdr",
        "outputId": "b1783f97-6b61-428b-92f5-bf617a587785"
      },
      "execution_count": 13,
      "outputs": [
        {
          "output_type": "stream",
          "name": "stderr",
          "text": [
            "WARNING:tensorflow:Compiled the loaded model, but the compiled metrics have yet to be built. `model.compile_metrics` will be empty until you train or evaluate the model.\n"
          ]
        },
        {
          "output_type": "stream",
          "name": "stdout",
          "text": [
            "1875/1875 [==============================] - 3s 2ms/step\n",
            "313/313 [==============================] - 1s 2ms/step\n"
          ]
        }
      ]
    },
    {
      "cell_type": "markdown",
      "source": [
        "### Clasificación"
      ],
      "metadata": {
        "id": "M1P_0Ixh7GYl"
      }
    },
    {
      "cell_type": "markdown",
      "source": [
        "CIFAR-10 (está en keras) contiene imágenes RGB de 32×32 (en total dimensión 3072)\n",
        "para hacer clasificación de objetos. Las clases son\n",
        "\n",
        "0\tairplane\n",
        "1\tautomobile\n",
        "2\tbird\n",
        "3\tcat\n",
        "4\tdeer\n",
        "5\tdog\n",
        "6\tfrog\n",
        "7\thorse\n",
        "8\tship\n",
        "9\ttruck"
      ],
      "metadata": {
        "id": "1mltyq8m78ps"
      }
    },
    {
      "cell_type": "code",
      "source": [
        "import keras\n",
        "(x_train, y_train), (x_test, y_test) = keras.datasets.cifar10.load_data()\n",
        "\n",
        "assert x_train.shape == (50000, 32, 32, 3)\n",
        "assert x_test.shape == (10000, 32, 32, 3)\n",
        "assert y_train.shape == (50000, 1)\n",
        "assert y_test.shape == (10000, 1)"
      ],
      "metadata": {
        "id": "v4ee48Dj8cop",
        "colab": {
          "base_uri": "https://localhost:8080/"
        },
        "outputId": "4f146bd0-1822-4022-f479-0ccdbaf4b1f7"
      },
      "execution_count": 14,
      "outputs": [
        {
          "output_type": "stream",
          "name": "stdout",
          "text": [
            "Downloading data from https://www.cs.toronto.edu/~kriz/cifar-10-python.tar.gz\n",
            "170498071/170498071 [==============================] - 3s 0us/step\n"
          ]
        }
      ]
    },
    {
      "cell_type": "markdown",
      "source": [
        "1) . Observar algunos ejemplos de imágenes de CIFAR. Una buena opción para ésto es\n",
        "utilizar imshow de pyplot."
      ],
      "metadata": {
        "id": "WW2yJoVV7_zk"
      }
    },
    {
      "cell_type": "code",
      "source": [
        "plt.figure(figsize=(5,5))\n",
        "for i in range(25):\n",
        "  plt.subplot(5,5,i+1)\n",
        "  plt.xticks([])\n",
        "  plt.yticks([])\n",
        "  plt.grid(False)\n",
        "  img_index = np.random.randint(0, x_train.shape[0])\n",
        "  plt.imshow(x_train[img_index], cmap=\"gray_r\")"
      ],
      "metadata": {
        "colab": {
          "base_uri": "https://localhost:8080/",
          "height": 306
        },
        "id": "nl_g4rv-9EAh",
        "outputId": "3e6c2fbb-c223-4080-dae2-e31d58a0073f"
      },
      "execution_count": null,
      "outputs": [
        {
          "output_type": "display_data",
          "data": {
            "text/plain": [
              "<Figure size 360x360 with 25 Axes>"
            ],
            "image/png": "[encoded data removed]"
          },
          "metadata": {}
        }
      ]
    },
    {
      "cell_type": "markdown",
      "source": [
        "2) Construir un clasificador utilizando la base de datos como entrenamiento/validación"
      ],
      "metadata": {
        "id": "2SmC5kuQ8B1Z"
      }
    },
    {
      "cell_type": "code",
      "source": [
        "import tensorflow as tf\n",
        "\n",
        "# Aplico reshape\n",
        "x_train = x_train.reshape(x_train.shape[0], x_train.shape[1] * x_train.shape[2] * x_train.shape[3])\n",
        "x_test = x_test.reshape(x_test.shape[0], x_test.shape[1] * x_test.shape[2] * x_test.shape[3])\n",
        "\n",
        "# Normalización\n",
        "x_train_media = np.mean(x_train,axis=0)\n",
        "x_train_desvio = np.std(x_train,axis=0)\n",
        "x_train = (x_train - x_train_media)/x_train_desvio\n",
        "\n",
        "x_test_media = np.mean(x_test,axis=0)\n",
        "x_test_desvio = np.std(x_test,axis=0)\n",
        "x_test = (x_test - x_test_media)/x_test_desvio\n",
        "\n",
        "# One hot encoding\n",
        "y_train = tf.keras.utils.to_categorical(y_train)\n",
        "y_test = tf.keras.utils.to_categorical(y_test)"
      ],
      "metadata": {
        "id": "UalQxKzj9hkv"
      },
      "execution_count": 15,
      "outputs": []
    },
    {
      "cell_type": "code",
      "source": [
        "# Modelo\n",
        "from keras import models, layers\n",
        "\n",
        "model = models.Sequential()\n",
        "model.add(layers.Dense(256, activation='relu', input_shape=(3072,)))\n",
        "model.add(layers.Dense(128, activation='relu'))\n",
        "model.add(layers.Dense(10, activation='softmax'))\n",
        "\n",
        "model.summary()"
      ],
      "metadata": {
        "colab": {
          "base_uri": "https://localhost:8080/"
        },
        "id": "rvG4GHeHOH-p",
        "outputId": "8a35537a-1c6d-4421-f7fc-31bf6d4ea9c9"
      },
      "execution_count": 16,
      "outputs": [
        {
          "output_type": "stream",
          "name": "stdout",
          "text": [
            "Model: \"sequential_2\"\n",
            "_________________________________________________________________\n",
            " Layer (type)                Output Shape              Param #   \n",
            "=================================================================\n",
            " dense_3 (Dense)             (None, 256)               786688    \n",
            "                                                                 \n",
            " dense_4 (Dense)             (None, 128)               32896     \n",
            "                                                                 \n",
            " dense_5 (Dense)             (None, 10)                1290      \n",
            "                                                                 \n",
            "=================================================================\n",
            "Total params: 820,874\n",
            "Trainable params: 820,874\n",
            "Non-trainable params: 0\n",
            "_________________________________________________________________\n"
          ]
        }
      ]
    },
    {
      "cell_type": "code",
      "source": [
        "model.compile(optimizer = 'rmsprop', loss = 'categorical_crossentropy', metrics = ['accuracy'])\n",
        "hist = model.fit(x_train, y_train, epochs=30, batch_size=128, validation_data=(x_test, y_test))"
      ],
      "metadata": {
        "colab": {
          "base_uri": "https://localhost:8080/"
        },
        "id": "hHVV6ngZO7L4",
        "outputId": "700cab69-88ad-47ff-c81d-308457a00414"
      },
      "execution_count": 17,
      "outputs": [
        {
          "output_type": "stream",
          "name": "stdout",
          "text": [
            "Epoch 1/30\n",
            "391/391 [==============================] - 9s 21ms/step - loss: 1.8279 - accuracy: 0.3769 - val_loss: 1.6475 - val_accuracy: 0.4305\n",
            "Epoch 2/30\n",
            "391/391 [==============================] - 8s 21ms/step - loss: 1.5418 - accuracy: 0.4555 - val_loss: 1.5411 - val_accuracy: 0.4581\n",
            "Epoch 3/30\n",
            "391/391 [==============================] - 10s 26ms/step - loss: 1.4204 - accuracy: 0.5011 - val_loss: 1.5350 - val_accuracy: 0.4696\n",
            "Epoch 4/30\n",
            "391/391 [==============================] - 8s 20ms/step - loss: 1.3334 - accuracy: 0.5312 - val_loss: 1.5440 - val_accuracy: 0.4791\n",
            "Epoch 5/30\n",
            "391/391 [==============================] - 8s 20ms/step - loss: 1.2649 - accuracy: 0.5564 - val_loss: 1.4578 - val_accuracy: 0.4927\n",
            "Epoch 6/30\n",
            "391/391 [==============================] - 8s 20ms/step - loss: 1.2030 - accuracy: 0.5766 - val_loss: 1.5796 - val_accuracy: 0.4769\n",
            "Epoch 7/30\n",
            "391/391 [==============================] - 8s 20ms/step - loss: 1.1445 - accuracy: 0.5962 - val_loss: 1.5297 - val_accuracy: 0.4932\n",
            "Epoch 8/30\n",
            "391/391 [==============================] - 8s 21ms/step - loss: 1.0948 - accuracy: 0.6126 - val_loss: 1.5101 - val_accuracy: 0.5052\n",
            "Epoch 9/30\n",
            "391/391 [==============================] - 8s 21ms/step - loss: 1.0409 - accuracy: 0.6332 - val_loss: 1.6002 - val_accuracy: 0.4917\n",
            "Epoch 10/30\n",
            "391/391 [==============================] - 8s 22ms/step - loss: 0.9947 - accuracy: 0.6474 - val_loss: 1.6463 - val_accuracy: 0.5064\n",
            "Epoch 11/30\n",
            "391/391 [==============================] - 8s 21ms/step - loss: 0.9549 - accuracy: 0.6648 - val_loss: 1.6521 - val_accuracy: 0.5086\n",
            "Epoch 12/30\n",
            "391/391 [==============================] - 8s 21ms/step - loss: 0.9157 - accuracy: 0.6783 - val_loss: 1.7356 - val_accuracy: 0.5032\n",
            "Epoch 13/30\n",
            "391/391 [==============================] - 8s 21ms/step - loss: 0.8770 - accuracy: 0.6877 - val_loss: 1.7674 - val_accuracy: 0.4883\n",
            "Epoch 14/30\n",
            "391/391 [==============================] - 9s 23ms/step - loss: 0.8456 - accuracy: 0.7052 - val_loss: 1.8130 - val_accuracy: 0.5030\n",
            "Epoch 15/30\n",
            "391/391 [==============================] - 8s 20ms/step - loss: 0.8129 - accuracy: 0.7158 - val_loss: 1.9036 - val_accuracy: 0.4962\n",
            "Epoch 16/30\n",
            "391/391 [==============================] - 8s 21ms/step - loss: 0.7836 - accuracy: 0.7244 - val_loss: 1.9123 - val_accuracy: 0.4908\n",
            "Epoch 17/30\n",
            "391/391 [==============================] - 8s 21ms/step - loss: 0.7544 - accuracy: 0.7353 - val_loss: 1.9626 - val_accuracy: 0.4951\n",
            "Epoch 18/30\n",
            "391/391 [==============================] - 8s 20ms/step - loss: 0.7302 - accuracy: 0.7436 - val_loss: 2.0565 - val_accuracy: 0.4945\n",
            "Epoch 19/30\n",
            "391/391 [==============================] - 8s 21ms/step - loss: 0.7098 - accuracy: 0.7498 - val_loss: 2.0689 - val_accuracy: 0.4935\n",
            "Epoch 20/30\n",
            "391/391 [==============================] - 8s 21ms/step - loss: 0.6812 - accuracy: 0.7591 - val_loss: 2.0531 - val_accuracy: 0.4948\n",
            "Epoch 21/30\n",
            "391/391 [==============================] - 8s 20ms/step - loss: 0.6561 - accuracy: 0.7708 - val_loss: 2.1717 - val_accuracy: 0.5019\n",
            "Epoch 22/30\n",
            "391/391 [==============================] - 8s 20ms/step - loss: 0.6349 - accuracy: 0.7762 - val_loss: 2.2592 - val_accuracy: 0.4951\n",
            "Epoch 23/30\n",
            "391/391 [==============================] - 9s 24ms/step - loss: 0.6160 - accuracy: 0.7848 - val_loss: 2.3204 - val_accuracy: 0.4982\n",
            "Epoch 24/30\n",
            "391/391 [==============================] - 9s 23ms/step - loss: 0.6005 - accuracy: 0.7899 - val_loss: 2.5851 - val_accuracy: 0.4739\n",
            "Epoch 25/30\n",
            "391/391 [==============================] - 8s 21ms/step - loss: 0.5827 - accuracy: 0.7960 - val_loss: 2.4521 - val_accuracy: 0.4966\n",
            "Epoch 26/30\n",
            "391/391 [==============================] - 8s 21ms/step - loss: 0.5599 - accuracy: 0.8052 - val_loss: 2.5358 - val_accuracy: 0.4915\n",
            "Epoch 27/30\n",
            "391/391 [==============================] - 8s 21ms/step - loss: 0.5432 - accuracy: 0.8111 - val_loss: 2.5299 - val_accuracy: 0.4987\n",
            "Epoch 28/30\n",
            "391/391 [==============================] - 8s 21ms/step - loss: 0.5315 - accuracy: 0.8161 - val_loss: 2.6491 - val_accuracy: 0.4960\n",
            "Epoch 29/30\n",
            "391/391 [==============================] - 8s 20ms/step - loss: 0.5152 - accuracy: 0.8218 - val_loss: 2.7084 - val_accuracy: 0.4939\n",
            "Epoch 30/30\n",
            "391/391 [==============================] - 8s 21ms/step - loss: 0.5041 - accuracy: 0.8249 - val_loss: 2.8909 - val_accuracy: 0.4904\n"
          ]
        }
      ]
    },
    {
      "cell_type": "markdown",
      "source": [
        "3) Reportar el accuracy de validación."
      ],
      "metadata": {
        "id": "eoDOM9NH8Dbk"
      }
    },
    {
      "cell_type": "markdown",
      "source": [
        "El accuracy de validación es aproximadamente del 50%"
      ],
      "metadata": {
        "id": "6oY7ZmXrQrkA"
      }
    },
    {
      "cell_type": "code",
      "source": [
        "accuracy = hist.history['accuracy']\n",
        "val_accuracy = hist.history['val_accuracy']\n",
        "epochs = range(1, len(accuracy) + 1)\n",
        "plt.plot(epochs, accuracy, 'b', label='Training accuracy')\n",
        "plt.plot(epochs, val_accuracy, 'r', label='Validation accuracy')\n",
        "plt.title('Training and validation accuracy')\n",
        "plt.xlabel('Epochs')\n",
        "plt.ylabel('Accuracy')\n",
        "plt.legend()\n",
        "plt.show()"
      ],
      "metadata": {
        "colab": {
          "base_uri": "https://localhost:8080/",
          "height": 295
        },
        "id": "XTvj8tnPaoXI",
        "outputId": "5b38d8ec-5ec2-4485-d59f-7ea24ce3d07d"
      },
      "execution_count": 18,
      "outputs": [
        {
          "output_type": "display_data",
          "data": {
            "text/plain": [
              "<Figure size 432x288 with 1 Axes>"
            ],
            "image/png": "[encoded data removed]"
          },
          "metadata": {
            "needs_background": "light"
          }
        }
      ]
    },
    {
      "cell_type": "code",
      "source": [
        "# grafica con la función de coste\n",
        " \n",
        "loss = hist.history['loss']\n",
        "val_loss = hist.history['val_loss']\n",
        "epochs = range(1, len(loss) + 1)\n",
        "plt.plot(epochs, loss, 'b', label='Training loss')\n",
        "plt.plot(epochs, val_loss, 'r', label='Validation loss')\n",
        "plt.title('Training and validation loss')\n",
        "plt.xlabel('Epochs')\n",
        "plt.ylabel('Loss')\n",
        "plt.legend()\n",
        "plt.show()"
      ],
      "metadata": {
        "colab": {
          "base_uri": "https://localhost:8080/",
          "height": 295
        },
        "id": "Y3s6m7f7RCt3",
        "outputId": "65d930e8-0990-4c55-a7a0-fd9556ed90c6"
      },
      "execution_count": 19,
      "outputs": [
        {
          "output_type": "display_data",
          "data": {
            "text/plain": [
              "<Figure size 432x288 with 1 Axes>"
            ],
            "image/png": "[encoded data removed]"
          },
          "metadata": {
            "needs_background": "light"
          }
        }
      ]
    },
    {
      "cell_type": "markdown",
      "source": [
        "En la gráfico vemos que a partir de la octava iteración (epoch), la función de coste sobre el conjunto de validación comienza a crecer (empeora), mientras que en el caso del conjunto de entrenamiento sigue decreciendo (mejorando). Eso es señal de que el modelo esta sobreentrenado (overfitting). \n",
        "\n",
        "Es decir, que predice muy bien en el conjunto de entrenamiento, pero mal en datos externos a este. Y eso es malo. Podemos hacer varias cosas para evitarlo, pero las dos más sencillas son, quitar neuronas para simplificar el modelo y/o reducir el número de iteraciones."
      ],
      "metadata": {
        "id": "XYTfPgBuRHlH"
      }
    },
    {
      "cell_type": "markdown",
      "source": [
        "###Regresión "
      ],
      "metadata": {
        "id": "gJ-xwvNsRx_u"
      }
    },
    {
      "cell_type": "markdown",
      "source": [
        "El archivo \"molinos.csv\" contiene datos de potencias acumuladas por un parque eólico para los diferentes vientos. La columna \"Velocity\" contiene el módulo del viento en ese instante y la columnna \"Direction\" el ángulo de la velocidad medido en sentido horario ubicando el cero en vientos que provienen del norte. Finalmente las columnas \"P\" contiene las potencias acumuladas por cada molino."
      ],
      "metadata": {
        "id": "CkXnjxOPR1rW"
      }
    },
    {
      "cell_type": "code",
      "source": [
        "import pandas as pd\n",
        "dataset_molinos = pd.read_csv('https://github.com/CSC-CONICET/CURSO-LEARNING1/raw/main/datasets/molinos.csv')\n",
        "dataset_molinos.head()"
      ],
      "metadata": {
        "colab": {
          "base_uri": "https://localhost:8080/",
          "height": 235
        },
        "id": "yOeH-StySZF1",
        "outputId": "81ab5e13-882e-4936-e6de-53f5ed6efa27"
      },
      "execution_count": 24,
      "outputs": [
        {
          "output_type": "execute_result",
          "data": {
            "text/plain": [
              "      P_1     P_2     P_3     P_4     P_5     P_6     P_7     P_8     P_9  \\\n",
              "0  1324.1  1324.3  1330.0  1337.8  1338.1  1328.2  1229.8  1325.6  1256.1   \n",
              "1  1497.4  1499.0  1499.1  1485.8  1435.6  1338.4  1273.5  1035.2   594.9   \n",
              "2  1724.9  1750.3  1467.2  1317.3  1285.5  1178.1   989.0   798.8   376.6   \n",
              "3  1594.7  1686.5  1394.2  1327.2  1247.6  1236.1  1170.3   889.0   255.9   \n",
              "4  1645.4  1678.3  1537.7  1397.1  1403.9  1390.1  1278.6   654.6   181.3   \n",
              "\n",
              "     P_10  ...    P_36    P_37    P_38    P_39    P_40    P_41    P_42  \\\n",
              "0  1338.2  ...  1296.6  1114.5  1238.1  1316.0  1299.9  1257.5  1138.4   \n",
              "1  1495.0  ...  1472.1  1395.8  1289.7  1416.0  1249.6  1114.5   802.1   \n",
              "2  1388.3  ...  1370.0  1090.9   962.2  1148.0  1055.2   772.5   555.4   \n",
              "3  1555.4  ...  1185.4  1053.1   773.2   924.2   799.5   576.3   448.1   \n",
              "4  1624.8  ...  1335.1  1504.6  1014.5  1207.9   989.8  1030.7   906.8   \n",
              "\n",
              "     P_43  Velocity  Direction  \n",
              "0  1172.8      12.1      260.0  \n",
              "1   679.2      10.8      254.0  \n",
              "2   316.3       8.4      253.0  \n",
              "3   418.8       7.8      251.0  \n",
              "4   816.2       7.8      248.0  \n",
              "\n",
              "[5 rows x 45 columns]"
            ],
            "text/html": [
              "\n",
              "  <div id=\"df-9cabfd0e-226e-4e63-b03e-7b3a636ac7c5\">\n",
              "    <div class=\"colab-df-container\">\n",
              "      <div>\n",
              "<style scoped>\n",
              "    .dataframe tbody tr th:only-of-type {\n",
              "        vertical-align: middle;\n",
              "    }\n",
              "\n",
              "    .dataframe tbody tr th {\n",
              "        vertical-align: top;\n",
              "    }\n",
              "\n",
              "    .dataframe thead th {\n",
              "        text-align: right;\n",
              "    }\n",
              "</style>\n",
              "<table border=\"1\" class=\"dataframe\">\n",
              "  <thead>\n",
              "    <tr style=\"text-align: right;\">\n",
              "      <th></th>\n",
              "      <th>P_1</th>\n",
              "      <th>P_2</th>\n",
              "      <th>P_3</th>\n",
              "      <th>P_4</th>\n",
              "      <th>P_5</th>\n",
              "      <th>P_6</th>\n",
              "      <th>P_7</th>\n",
              "      <th>P_8</th>\n",
              "      <th>P_9</th>\n",
              "      <th>P_10</th>\n",
              "      <th>...</th>\n",
              "      <th>P_36</th>\n",
              "      <th>P_37</th>\n",
              "      <th>P_38</th>\n",
              "      <th>P_39</th>\n",
              "      <th>P_40</th>\n",
              "      <th>P_41</th>\n",
              "      <th>P_42</th>\n",
              "      <th>P_43</th>\n",
              "      <th>Velocity</th>\n",
              "      <th>Direction</th>\n",
              "    </tr>\n",
              "  </thead>\n",
              "  <tbody>\n",
              "    <tr>\n",
              "      <th>0</th>\n",
              "      <td>1324.1</td>\n",
              "      <td>1324.3</td>\n",
              "      <td>1330.0</td>\n",
              "      <td>1337.8</td>\n",
              "      <td>1338.1</td>\n",
              "      <td>1328.2</td>\n",
              "      <td>1229.8</td>\n",
              "      <td>1325.6</td>\n",
              "      <td>1256.1</td>\n",
              "      <td>1338.2</td>\n",
              "      <td>...</td>\n",
              "      <td>1296.6</td>\n",
              "      <td>1114.5</td>\n",
              "      <td>1238.1</td>\n",
              "      <td>1316.0</td>\n",
              "      <td>1299.9</td>\n",
              "      <td>1257.5</td>\n",
              "      <td>1138.4</td>\n",
              "      <td>1172.8</td>\n",
              "      <td>12.1</td>\n",
              "      <td>260.0</td>\n",
              "    </tr>\n",
              "    <tr>\n",
              "      <th>1</th>\n",
              "      <td>1497.4</td>\n",
              "      <td>1499.0</td>\n",
              "      <td>1499.1</td>\n",
              "      <td>1485.8</td>\n",
              "      <td>1435.6</td>\n",
              "      <td>1338.4</td>\n",
              "      <td>1273.5</td>\n",
              "      <td>1035.2</td>\n",
              "      <td>594.9</td>\n",
              "      <td>1495.0</td>\n",
              "      <td>...</td>\n",
              "      <td>1472.1</td>\n",
              "      <td>1395.8</td>\n",
              "      <td>1289.7</td>\n",
              "      <td>1416.0</td>\n",
              "      <td>1249.6</td>\n",
              "      <td>1114.5</td>\n",
              "      <td>802.1</td>\n",
              "      <td>679.2</td>\n",
              "      <td>10.8</td>\n",
              "      <td>254.0</td>\n",
              "    </tr>\n",
              "    <tr>\n",
              "      <th>2</th>\n",
              "      <td>1724.9</td>\n",
              "      <td>1750.3</td>\n",
              "      <td>1467.2</td>\n",
              "      <td>1317.3</td>\n",
              "      <td>1285.5</td>\n",
              "      <td>1178.1</td>\n",
              "      <td>989.0</td>\n",
              "      <td>798.8</td>\n",
              "      <td>376.6</td>\n",
              "      <td>1388.3</td>\n",
              "      <td>...</td>\n",
              "      <td>1370.0</td>\n",
              "      <td>1090.9</td>\n",
              "      <td>962.2</td>\n",
              "      <td>1148.0</td>\n",
              "      <td>1055.2</td>\n",
              "      <td>772.5</td>\n",
              "      <td>555.4</td>\n",
              "      <td>316.3</td>\n",
              "      <td>8.4</td>\n",
              "      <td>253.0</td>\n",
              "    </tr>\n",
              "    <tr>\n",
              "      <th>3</th>\n",
              "      <td>1594.7</td>\n",
              "      <td>1686.5</td>\n",
              "      <td>1394.2</td>\n",
              "      <td>1327.2</td>\n",
              "      <td>1247.6</td>\n",
              "      <td>1236.1</td>\n",
              "      <td>1170.3</td>\n",
              "      <td>889.0</td>\n",
              "      <td>255.9</td>\n",
              "      <td>1555.4</td>\n",
              "      <td>...</td>\n",
              "      <td>1185.4</td>\n",
              "      <td>1053.1</td>\n",
              "      <td>773.2</td>\n",
              "      <td>924.2</td>\n",
              "      <td>799.5</td>\n",
              "      <td>576.3</td>\n",
              "      <td>448.1</td>\n",
              "      <td>418.8</td>\n",
              "      <td>7.8</td>\n",
              "      <td>251.0</td>\n",
              "    </tr>\n",
              "    <tr>\n",
              "      <th>4</th>\n",
              "      <td>1645.4</td>\n",
              "      <td>1678.3</td>\n",
              "      <td>1537.7</td>\n",
              "      <td>1397.1</td>\n",
              "      <td>1403.9</td>\n",
              "      <td>1390.1</td>\n",
              "      <td>1278.6</td>\n",
              "      <td>654.6</td>\n",
              "      <td>181.3</td>\n",
              "      <td>1624.8</td>\n",
              "      <td>...</td>\n",
              "      <td>1335.1</td>\n",
              "      <td>1504.6</td>\n",
              "      <td>1014.5</td>\n",
              "      <td>1207.9</td>\n",
              "      <td>989.8</td>\n",
              "      <td>1030.7</td>\n",
              "      <td>906.8</td>\n",
              "      <td>816.2</td>\n",
              "      <td>7.8</td>\n",
              "      <td>248.0</td>\n",
              "    </tr>\n",
              "  </tbody>\n",
              "</table>\n",
              "<p>5 rows × 45 columns</p>\n",
              "</div>\n",
              "      <button class=\"colab-df-convert\" onclick=\"convertToInteractive('df-9cabfd0e-226e-4e63-b03e-7b3a636ac7c5')\"\n",
              "              title=\"Convert this dataframe to an interactive table.\"\n",
              "              style=\"display:none;\">\n",
              "        \n",
              "  <svg xmlns=\"http://www.w3.org/2000/svg\" height=\"24px\"viewBox=\"0 0 24 24\"\n",
              "       width=\"24px\">\n",
              "    <path d=\"M0 0h24v24H0V0z\" fill=\"none\"/>\n",
              "    <path d=\"M18.56 5.44l.94 2.06.94-2.06 2.06-.94-2.06-.94-.94-2.06-.94 2.06-2.06.94zm-11 1L8.5 8.5l.94-2.06 2.06-.94-2.06-.94L8.5 2.5l-.94 2.06-2.06.94zm10 10l.94 2.06.94-2.06 2.06-.94-2.06-.94-.94-2.06-.94 2.06-2.06.94z\"/><path d=\"M17.41 7.96l-1.37-1.37c-.4-.4-.92-.59-1.43-.59-.52 0-1.04.2-1.43.59L10.3 9.45l-7.72 7.72c-.78.78-.78 2.05 0 2.83L4 21.41c.39.39.9.59 1.41.59.51 0 1.02-.2 1.41-.59l7.78-7.78 2.81-2.81c.8-.78.8-2.07 0-2.86zM5.41 20L4 18.59l7.72-7.72 1.47 1.35L5.41 20z\"/>\n",
              "  </svg>\n",
              "      </button>\n",
              "      \n",
              "  <style>\n",
              "    .colab-df-container {\n",
              "      display:flex;\n",
              "      flex-wrap:wrap;\n",
              "      gap: 12px;\n",
              "    }\n",
              "\n",
              "    .colab-df-convert {\n",
              "      background-color: #E8F0FE;\n",
              "      border: none;\n",
              "      border-radius: 50%;\n",
              "      cursor: pointer;\n",
              "      display: none;\n",
              "      fill: #1967D2;\n",
              "      height: 32px;\n",
              "      padding: 0 0 0 0;\n",
              "      width: 32px;\n",
              "    }\n",
              "\n",
              "    .colab-df-convert:hover {\n",
              "      background-color: #E2EBFA;\n",
              "      box-shadow: 0px 1px 2px rgba(60, 64, 67, 0.3), 0px 1px 3px 1px rgba(60, 64, 67, 0.15);\n",
              "      fill: #174EA6;\n",
              "    }\n",
              "\n",
              "    [theme=dark] .colab-df-convert {\n",
              "      background-color: #3B4455;\n",
              "      fill: #D2E3FC;\n",
              "    }\n",
              "\n",
              "    [theme=dark] .colab-df-convert:hover {\n",
              "      background-color: #434B5C;\n",
              "      box-shadow: 0px 1px 3px 1px rgba(0, 0, 0, 0.15);\n",
              "      filter: drop-shadow(0px 1px 2px rgba(0, 0, 0, 0.3));\n",
              "      fill: #FFFFFF;\n",
              "    }\n",
              "  </style>\n",
              "\n",
              "      <script>\n",
              "        const buttonEl =\n",
              "          document.querySelector('#df-9cabfd0e-226e-4e63-b03e-7b3a636ac7c5 button.colab-df-convert');\n",
              "        buttonEl.style.display =\n",
              "          google.colab.kernel.accessAllowed ? 'block' : 'none';\n",
              "\n",
              "        async function convertToInteractive(key) {\n",
              "          const element = document.querySelector('#df-9cabfd0e-226e-4e63-b03e-7b3a636ac7c5');\n",
              "          const dataTable =\n",
              "            await google.colab.kernel.invokeFunction('convertToInteractive',\n",
              "                                                     [key], {});\n",
              "          if (!dataTable) return;\n",
              "\n",
              "          const docLinkHtml = 'Like what you see? Visit the ' +\n",
              "            '<a target=\"_blank\" href=https://colab.research.google.com/notebooks/data_table.ipynb>data table notebook</a>'\n",
              "            + ' to learn more about interactive tables.';\n",
              "          element.innerHTML = '';\n",
              "          dataTable['output_type'] = 'display_data';\n",
              "          await google.colab.output.renderOutput(dataTable, element);\n",
              "          const docLink = document.createElement('div');\n",
              "          docLink.innerHTML = docLinkHtml;\n",
              "          element.appendChild(docLink);\n",
              "        }\n",
              "      </script>\n",
              "    </div>\n",
              "  </div>\n",
              "  "
            ]
          },
          "metadata": {},
          "execution_count": 24
        }
      ]
    },
    {
      "cell_type": "code",
      "source": [
        "dataset_molinos.shape"
      ],
      "metadata": {
        "colab": {
          "base_uri": "https://localhost:8080/"
        },
        "id": "drfCCZH8abK2",
        "outputId": "ee8f848e-18c0-4d3d-ccdf-48ab9d11cff7"
      },
      "execution_count": 25,
      "outputs": [
        {
          "output_type": "execute_result",
          "data": {
            "text/plain": [
              "(128550, 45)"
            ]
          },
          "metadata": {},
          "execution_count": 25
        }
      ]
    },
    {
      "cell_type": "markdown",
      "source": [
        "1) Curado de datos: Tirar todas las filas de datos donde haya alguna potencia negativa. Las mismas no tienen sentido, son simplemente errores de medición."
      ],
      "metadata": {
        "id": "IyApt4Z8SS1l"
      }
    },
    {
      "cell_type": "code",
      "source": [
        "dataset = dataset_molinos[np.sum(dataset_molinos >= 0, axis = 1) == 45]"
      ],
      "metadata": {
        "id": "tblxSnSrSSPj"
      },
      "execution_count": 26,
      "outputs": []
    },
    {
      "cell_type": "code",
      "source": [
        "dataset.shape"
      ],
      "metadata": {
        "colab": {
          "base_uri": "https://localhost:8080/"
        },
        "id": "yXMPpjaaiC4t",
        "outputId": "04b52b84-5ba4-4f38-9fcc-2442b0e219a3"
      },
      "execution_count": 27,
      "outputs": [
        {
          "output_type": "execute_result",
          "data": {
            "text/plain": [
              "(82737, 45)"
            ]
          },
          "metadata": {},
          "execution_count": 27
        }
      ]
    },
    {
      "cell_type": "markdown",
      "source": [
        "2) Pasar las velocidades a coordenadas cartesianas"
      ],
      "metadata": {
        "id": "T3uHoYLRi8XF"
      }
    },
    {
      "cell_type": "code",
      "source": [
        "import math\n",
        "\n",
        "def pasar_a_coordenadas_cartesianas(dataset):\n",
        "  dataset = dataset.copy()\n",
        "  dataset['Direction'] = ( dataset['Direction'] - 90 ) % 360\n",
        "\n",
        "  cos_x = dataset['Direction'].apply(lambda x: math.cos(math.radians(x)))\n",
        "  sin_y = dataset['Direction'].apply(lambda x: math.sin(math.radians(x)))\n",
        "  comp_x = dataset['Velocity'] * cos_x\n",
        "  comp_y = dataset['Velocity'] * sin_y\n",
        "\n",
        "  dataset.drop(['Direction', 'Velocity'], axis = 1, inplace = True)\n",
        "\n",
        "  dataset['Velocity_x'] = comp_x\n",
        "  dataset['Velocity_y'] = -1 * comp_y\n",
        "  return dataset\n",
        "\n",
        "dataset = pasar_a_coordenadas_cartesianas(dataset)\n",
        "dataset.head()"
      ],
      "metadata": {
        "colab": {
          "base_uri": "https://localhost:8080/",
          "height": 235
        },
        "id": "iZdwyCH5i9Bt",
        "outputId": "2938caa8-a35c-4e7f-ce81-91a8b88112c8"
      },
      "execution_count": 28,
      "outputs": [
        {
          "output_type": "execute_result",
          "data": {
            "text/plain": [
              "        P_1    P_2     P_3    P_4    P_5    P_6    P_7    P_8    P_9   P_10  \\\n",
              "317  1097.9  535.1   975.1  957.4  932.6  810.6  946.9  591.5  856.2  882.6   \n",
              "318   859.6  487.0  1000.4  768.7  869.9  820.0  794.3  574.0  980.3  709.4   \n",
              "319   766.7  413.2   767.1  650.9  838.7  828.6  732.5  487.3  723.9  588.3   \n",
              "320   677.6  503.8   786.4  584.2  601.6  669.0  558.8  345.4  758.2  683.1   \n",
              "321   762.4  324.8   703.6  577.8  688.5  582.4  630.0  309.1  615.4  704.0   \n",
              "\n",
              "     ...   P_36   P_37    P_38    P_39    P_40    P_41    P_42    P_43  \\\n",
              "317  ...  999.2  975.9  1033.2  1090.6  1217.2  1020.0  1230.3  1116.8   \n",
              "318  ...  687.7  760.9   780.0   926.3   904.1   808.9   959.5   881.5   \n",
              "319  ...  730.5  773.6   838.0   820.6   898.3   905.3   978.0   961.8   \n",
              "320  ...  803.9  831.8   824.3   789.2   876.7  1006.7   853.3   899.3   \n",
              "321  ...  736.1  874.8   791.9   912.5   746.9   954.5   848.4   885.0   \n",
              "\n",
              "     Velocity_x  Velocity_y  \n",
              "317    6.716915   -5.838925  \n",
              "318    6.168102   -5.553784  \n",
              "319    6.114388   -5.904596  \n",
              "320    5.704559   -5.319587  \n",
              "321    4.986049   -5.735793  \n",
              "\n",
              "[5 rows x 45 columns]"
            ],
            "text/html": [
              "\n",
              "  <div id=\"df-2d5c86bc-f9eb-418e-aead-3af6b2f5a5e4\">\n",
              "    <div class=\"colab-df-container\">\n",
              "      <div>\n",
              "<style scoped>\n",
              "    .dataframe tbody tr th:only-of-type {\n",
              "        vertical-align: middle;\n",
              "    }\n",
              "\n",
              "    .dataframe tbody tr th {\n",
              "        vertical-align: top;\n",
              "    }\n",
              "\n",
              "    .dataframe thead th {\n",
              "        text-align: right;\n",
              "    }\n",
              "</style>\n",
              "<table border=\"1\" class=\"dataframe\">\n",
              "  <thead>\n",
              "    <tr style=\"text-align: right;\">\n",
              "      <th></th>\n",
              "      <th>P_1</th>\n",
              "      <th>P_2</th>\n",
              "      <th>P_3</th>\n",
              "      <th>P_4</th>\n",
              "      <th>P_5</th>\n",
              "      <th>P_6</th>\n",
              "      <th>P_7</th>\n",
              "      <th>P_8</th>\n",
              "      <th>P_9</th>\n",
              "      <th>P_10</th>\n",
              "      <th>...</th>\n",
              "      <th>P_36</th>\n",
              "      <th>P_37</th>\n",
              "      <th>P_38</th>\n",
              "      <th>P_39</th>\n",
              "      <th>P_40</th>\n",
              "      <th>P_41</th>\n",
              "      <th>P_42</th>\n",
              "      <th>P_43</th>\n",
              "      <th>Velocity_x</th>\n",
              "      <th>Velocity_y</th>\n",
              "    </tr>\n",
              "  </thead>\n",
              "  <tbody>\n",
              "    <tr>\n",
              "      <th>317</th>\n",
              "      <td>1097.9</td>\n",
              "      <td>535.1</td>\n",
              "      <td>975.1</td>\n",
              "      <td>957.4</td>\n",
              "      <td>932.6</td>\n",
              "      <td>810.6</td>\n",
              "      <td>946.9</td>\n",
              "      <td>591.5</td>\n",
              "      <td>856.2</td>\n",
              "      <td>882.6</td>\n",
              "      <td>...</td>\n",
              "      <td>999.2</td>\n",
              "      <td>975.9</td>\n",
              "      <td>1033.2</td>\n",
              "      <td>1090.6</td>\n",
              "      <td>1217.2</td>\n",
              "      <td>1020.0</td>\n",
              "      <td>1230.3</td>\n",
              "      <td>1116.8</td>\n",
              "      <td>6.716915</td>\n",
              "      <td>-5.838925</td>\n",
              "    </tr>\n",
              "    <tr>\n",
              "      <th>318</th>\n",
              "      <td>859.6</td>\n",
              "      <td>487.0</td>\n",
              "      <td>1000.4</td>\n",
              "      <td>768.7</td>\n",
              "      <td>869.9</td>\n",
              "      <td>820.0</td>\n",
              "      <td>794.3</td>\n",
              "      <td>574.0</td>\n",
              "      <td>980.3</td>\n",
              "      <td>709.4</td>\n",
              "      <td>...</td>\n",
              "      <td>687.7</td>\n",
              "      <td>760.9</td>\n",
              "      <td>780.0</td>\n",
              "      <td>926.3</td>\n",
              "      <td>904.1</td>\n",
              "      <td>808.9</td>\n",
              "      <td>959.5</td>\n",
              "      <td>881.5</td>\n",
              "      <td>6.168102</td>\n",
              "      <td>-5.553784</td>\n",
              "    </tr>\n",
              "    <tr>\n",
              "      <th>319</th>\n",
              "      <td>766.7</td>\n",
              "      <td>413.2</td>\n",
              "      <td>767.1</td>\n",
              "      <td>650.9</td>\n",
              "      <td>838.7</td>\n",
              "      <td>828.6</td>\n",
              "      <td>732.5</td>\n",
              "      <td>487.3</td>\n",
              "      <td>723.9</td>\n",
              "      <td>588.3</td>\n",
              "      <td>...</td>\n",
              "      <td>730.5</td>\n",
              "      <td>773.6</td>\n",
              "      <td>838.0</td>\n",
              "      <td>820.6</td>\n",
              "      <td>898.3</td>\n",
              "      <td>905.3</td>\n",
              "      <td>978.0</td>\n",
              "      <td>961.8</td>\n",
              "      <td>6.114388</td>\n",
              "      <td>-5.904596</td>\n",
              "    </tr>\n",
              "    <tr>\n",
              "      <th>320</th>\n",
              "      <td>677.6</td>\n",
              "      <td>503.8</td>\n",
              "      <td>786.4</td>\n",
              "      <td>584.2</td>\n",
              "      <td>601.6</td>\n",
              "      <td>669.0</td>\n",
              "      <td>558.8</td>\n",
              "      <td>345.4</td>\n",
              "      <td>758.2</td>\n",
              "      <td>683.1</td>\n",
              "      <td>...</td>\n",
              "      <td>803.9</td>\n",
              "      <td>831.8</td>\n",
              "      <td>824.3</td>\n",
              "      <td>789.2</td>\n",
              "      <td>876.7</td>\n",
              "      <td>1006.7</td>\n",
              "      <td>853.3</td>\n",
              "      <td>899.3</td>\n",
              "      <td>5.704559</td>\n",
              "      <td>-5.319587</td>\n",
              "    </tr>\n",
              "    <tr>\n",
              "      <th>321</th>\n",
              "      <td>762.4</td>\n",
              "      <td>324.8</td>\n",
              "      <td>703.6</td>\n",
              "      <td>577.8</td>\n",
              "      <td>688.5</td>\n",
              "      <td>582.4</td>\n",
              "      <td>630.0</td>\n",
              "      <td>309.1</td>\n",
              "      <td>615.4</td>\n",
              "      <td>704.0</td>\n",
              "      <td>...</td>\n",
              "      <td>736.1</td>\n",
              "      <td>874.8</td>\n",
              "      <td>791.9</td>\n",
              "      <td>912.5</td>\n",
              "      <td>746.9</td>\n",
              "      <td>954.5</td>\n",
              "      <td>848.4</td>\n",
              "      <td>885.0</td>\n",
              "      <td>4.986049</td>\n",
              "      <td>-5.735793</td>\n",
              "    </tr>\n",
              "  </tbody>\n",
              "</table>\n",
              "<p>5 rows × 45 columns</p>\n",
              "</div>\n",
              "      <button class=\"colab-df-convert\" onclick=\"convertToInteractive('df-2d5c86bc-f9eb-418e-aead-3af6b2f5a5e4')\"\n",
              "              title=\"Convert this dataframe to an interactive table.\"\n",
              "              style=\"display:none;\">\n",
              "        \n",
              "  <svg xmlns=\"http://www.w3.org/2000/svg\" height=\"24px\"viewBox=\"0 0 24 24\"\n",
              "       width=\"24px\">\n",
              "    <path d=\"M0 0h24v24H0V0z\" fill=\"none\"/>\n",
              "    <path d=\"M18.56 5.44l.94 2.06.94-2.06 2.06-.94-2.06-.94-.94-2.06-.94 2.06-2.06.94zm-11 1L8.5 8.5l.94-2.06 2.06-.94-2.06-.94L8.5 2.5l-.94 2.06-2.06.94zm10 10l.94 2.06.94-2.06 2.06-.94-2.06-.94-.94-2.06-.94 2.06-2.06.94z\"/><path d=\"M17.41 7.96l-1.37-1.37c-.4-.4-.92-.59-1.43-.59-.52 0-1.04.2-1.43.59L10.3 9.45l-7.72 7.72c-.78.78-.78 2.05 0 2.83L4 21.41c.39.39.9.59 1.41.59.51 0 1.02-.2 1.41-.59l7.78-7.78 2.81-2.81c.8-.78.8-2.07 0-2.86zM5.41 20L4 18.59l7.72-7.72 1.47 1.35L5.41 20z\"/>\n",
              "  </svg>\n",
              "      </button>\n",
              "      \n",
              "  <style>\n",
              "    .colab-df-container {\n",
              "      display:flex;\n",
              "      flex-wrap:wrap;\n",
              "      gap: 12px;\n",
              "    }\n",
              "\n",
              "    .colab-df-convert {\n",
              "      background-color: #E8F0FE;\n",
              "      border: none;\n",
              "      border-radius: 50%;\n",
              "      cursor: pointer;\n",
              "      display: none;\n",
              "      fill: #1967D2;\n",
              "      height: 32px;\n",
              "      padding: 0 0 0 0;\n",
              "      width: 32px;\n",
              "    }\n",
              "\n",
              "    .colab-df-convert:hover {\n",
              "      background-color: #E2EBFA;\n",
              "      box-shadow: 0px 1px 2px rgba(60, 64, 67, 0.3), 0px 1px 3px 1px rgba(60, 64, 67, 0.15);\n",
              "      fill: #174EA6;\n",
              "    }\n",
              "\n",
              "    [theme=dark] .colab-df-convert {\n",
              "      background-color: #3B4455;\n",
              "      fill: #D2E3FC;\n",
              "    }\n",
              "\n",
              "    [theme=dark] .colab-df-convert:hover {\n",
              "      background-color: #434B5C;\n",
              "      box-shadow: 0px 1px 3px 1px rgba(0, 0, 0, 0.15);\n",
              "      filter: drop-shadow(0px 1px 2px rgba(0, 0, 0, 0.3));\n",
              "      fill: #FFFFFF;\n",
              "    }\n",
              "  </style>\n",
              "\n",
              "      <script>\n",
              "        const buttonEl =\n",
              "          document.querySelector('#df-2d5c86bc-f9eb-418e-aead-3af6b2f5a5e4 button.colab-df-convert');\n",
              "        buttonEl.style.display =\n",
              "          google.colab.kernel.accessAllowed ? 'block' : 'none';\n",
              "\n",
              "        async function convertToInteractive(key) {\n",
              "          const element = document.querySelector('#df-2d5c86bc-f9eb-418e-aead-3af6b2f5a5e4');\n",
              "          const dataTable =\n",
              "            await google.colab.kernel.invokeFunction('convertToInteractive',\n",
              "                                                     [key], {});\n",
              "          if (!dataTable) return;\n",
              "\n",
              "          const docLinkHtml = 'Like what you see? Visit the ' +\n",
              "            '<a target=\"_blank\" href=https://colab.research.google.com/notebooks/data_table.ipynb>data table notebook</a>'\n",
              "            + ' to learn more about interactive tables.';\n",
              "          element.innerHTML = '';\n",
              "          dataTable['output_type'] = 'display_data';\n",
              "          await google.colab.output.renderOutput(dataTable, element);\n",
              "          const docLink = document.createElement('div');\n",
              "          docLink.innerHTML = docLinkHtml;\n",
              "          element.appendChild(docLink);\n",
              "        }\n",
              "      </script>\n",
              "    </div>\n",
              "  </div>\n",
              "  "
            ]
          },
          "metadata": {},
          "execution_count": 28
        }
      ]
    },
    {
      "cell_type": "markdown",
      "source": [
        "3) Entrenar un regresor que estime la velocidad del viento (dos dimensiones cartesianas) en función de las potencias. Para ello separar los datos como crea conveniente."
      ],
      "metadata": {
        "id": "89ykaW6Gqu-e"
      }
    },
    {
      "cell_type": "code",
      "source": [
        "from sklearn.model_selection import train_test_split\n",
        "train, test = train_test_split(dataset, test_size=0.2)\n",
        "\n",
        "model = models.Sequential()\n",
        "model.add(layers.Dense(256, activation='relu', input_shape=(43,)))\n",
        "model.add(layers.Dense(128, activation='relu'))\n",
        "model.add(layers.Dense(2))\n",
        "\n",
        "model.summary()"
      ],
      "metadata": {
        "colab": {
          "base_uri": "https://localhost:8080/"
        },
        "id": "0KydwtdMqlRq",
        "outputId": "664915bb-da05-4e83-e301-b378ce3222c9"
      },
      "execution_count": 29,
      "outputs": [
        {
          "output_type": "stream",
          "name": "stdout",
          "text": [
            "Model: \"sequential_3\"\n",
            "_________________________________________________________________\n",
            " Layer (type)                Output Shape              Param #   \n",
            "=================================================================\n",
            " dense_6 (Dense)             (None, 256)               11264     \n",
            "                                                                 \n",
            " dense_7 (Dense)             (None, 128)               32896     \n",
            "                                                                 \n",
            " dense_8 (Dense)             (None, 2)                 258       \n",
            "                                                                 \n",
            "=================================================================\n",
            "Total params: 44,418\n",
            "Trainable params: 44,418\n",
            "Non-trainable params: 0\n",
            "_________________________________________________________________\n"
          ]
        }
      ]
    },
    {
      "cell_type": "code",
      "source": [
        "x_train = train[train.columns[0:43]]\n",
        "y_train = train[train.columns[-2:]]\n",
        "\n",
        "# Normalizo x_train\n",
        "x_train = (x_train - np.mean(x_train, axis = 0)) / np.std(x_train, axis = 0)\n",
        "\n",
        "model.compile(optimizer=tf.keras.optimizers.Adam(),loss='MeanSquaredError')\n",
        "hist = model.fit(x_train, y_train, batch_size = 128, epochs= 30) "
      ],
      "metadata": {
        "colab": {
          "base_uri": "https://localhost:8080/"
        },
        "id": "XwIwxx0CsrQR",
        "outputId": "d9807c23-c0f9-4f81-9bdc-abb698a58764"
      },
      "execution_count": 30,
      "outputs": [
        {
          "output_type": "stream",
          "name": "stdout",
          "text": [
            "Epoch 1/30\n",
            "518/518 [==============================] - 3s 4ms/step - loss: 19.8214\n",
            "Epoch 2/30\n",
            "518/518 [==============================] - 2s 4ms/step - loss: 15.4115\n",
            "Epoch 3/30\n",
            "518/518 [==============================] - 2s 4ms/step - loss: 14.0591\n",
            "Epoch 4/30\n",
            "518/518 [==============================] - 2s 4ms/step - loss: 13.2626\n",
            "Epoch 5/30\n",
            "518/518 [==============================] - 2s 4ms/step - loss: 12.9789\n",
            "Epoch 6/30\n",
            "518/518 [==============================] - 2s 4ms/step - loss: 12.6867\n",
            "Epoch 7/30\n",
            "518/518 [==============================] - 2s 4ms/step - loss: 12.4386\n",
            "Epoch 8/30\n",
            "518/518 [==============================] - 2s 4ms/step - loss: 12.2175\n",
            "Epoch 9/30\n",
            "518/518 [==============================] - 2s 4ms/step - loss: 12.1043\n",
            "Epoch 10/30\n",
            "518/518 [==============================] - 3s 5ms/step - loss: 11.9294\n",
            "Epoch 11/30\n",
            "518/518 [==============================] - 3s 6ms/step - loss: 11.7757\n",
            "Epoch 12/30\n",
            "518/518 [==============================] - 3s 6ms/step - loss: 11.7376\n",
            "Epoch 13/30\n",
            "518/518 [==============================] - 2s 4ms/step - loss: 11.4965\n",
            "Epoch 14/30\n",
            "518/518 [==============================] - 2s 4ms/step - loss: 11.5229\n",
            "Epoch 15/30\n",
            "518/518 [==============================] - 2s 4ms/step - loss: 11.3847\n",
            "Epoch 16/30\n",
            "518/518 [==============================] - 3s 5ms/step - loss: 11.1707\n",
            "Epoch 17/30\n",
            "518/518 [==============================] - 2s 4ms/step - loss: 11.0424\n",
            "Epoch 18/30\n",
            "518/518 [==============================] - 2s 4ms/step - loss: 11.0719\n",
            "Epoch 19/30\n",
            "518/518 [==============================] - 2s 4ms/step - loss: 10.9643\n",
            "Epoch 20/30\n",
            "518/518 [==============================] - 2s 4ms/step - loss: 10.9021\n",
            "Epoch 21/30\n",
            "518/518 [==============================] - 2s 4ms/step - loss: 10.9127\n",
            "Epoch 22/30\n",
            "518/518 [==============================] - 2s 4ms/step - loss: 10.6954\n",
            "Epoch 23/30\n",
            "518/518 [==============================] - 2s 4ms/step - loss: 10.5658\n",
            "Epoch 24/30\n",
            "518/518 [==============================] - 2s 4ms/step - loss: 10.7293\n",
            "Epoch 25/30\n",
            "518/518 [==============================] - 2s 4ms/step - loss: 10.5273\n",
            "Epoch 26/30\n",
            "518/518 [==============================] - 2s 4ms/step - loss: 10.5378\n",
            "Epoch 27/30\n",
            "518/518 [==============================] - 2s 4ms/step - loss: 10.5089\n",
            "Epoch 28/30\n",
            "518/518 [==============================] - 2s 4ms/step - loss: 10.4484\n",
            "Epoch 29/30\n",
            "518/518 [==============================] - 2s 4ms/step - loss: 10.3078\n",
            "Epoch 30/30\n",
            "518/518 [==============================] - 2s 4ms/step - loss: 10.4266\n"
          ]
        }
      ]
    },
    {
      "cell_type": "markdown",
      "source": [
        "4) Crear una script que levante el modelo entrenado y permita probarlo. Tiene que\n",
        "devolver el error cuadrático medio (básicamente esto signi\u001cca que hay un set de\n",
        "datos que no les paso que lo voy a usar para probar su algoritmo). Tenga en cuenta\n",
        "que el formato de los datos será el mismo que este dataset (módulo y fase en sentido\n",
        "horario con respecto al viento del norte)."
      ],
      "metadata": {
        "id": "gyuh43mkvGU7"
      }
    },
    {
      "cell_type": "code",
      "source": [
        "model_json = model.to_json()\n",
        "with open('model_molinos.json','w') as json_file:\n",
        "  json_file.write(model_json)\n",
        "\n",
        "model.save_weights('modelo_molinos.h5',save_format='h5')"
      ],
      "metadata": {
        "id": "-UWGmUQ8vFHs"
      },
      "execution_count": 32,
      "outputs": []
    },
    {
      "cell_type": "code",
      "source": [
        "json_file_loaded = open('model_molinos.json','r')\n",
        "loaded_model_json = json_file_loaded.read()\n",
        "loaded_model_h5 = tf.keras.models.model_from_json(loaded_model_json)\n",
        "loaded_model_h5.load_weights('modelo_molinos.h5')\n",
        "modelo = loaded_model_h5\n",
        "\n",
        "def ecm(dataset):\n",
        "  modelo = pasar_a_coordenadas_cartesianas(modelo)\n",
        "  x_train = modelo[dataset.columns[0:43]]\n",
        "  y_train = modelo[dataset.columns[-2:]]\n",
        "\n",
        "  x_train = (x_train - np.mean(x_train, axis = 0)) / np.std(x_train, axis = 0)\n",
        "\n",
        "  y_predicted = modelo.predict(x_train)\n",
        "\n",
        "  ecm = np.sum((y_predicted - y_train) ** 2) / len(x_train)\n",
        "\n",
        "  return ecm\n"
      ],
      "metadata": {
        "id": "TNXuH0_px3XP"
      },
      "execution_count": 33,
      "outputs": []
    }
  ]
}