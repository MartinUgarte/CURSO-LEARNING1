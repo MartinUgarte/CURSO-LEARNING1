{
  "nbformat": 4,
  "nbformat_minor": 0,
  "metadata": {
    "colab": {
      "provenance": [],
      "collapsed_sections": [
        "ykfw1wMLim_y",
        "E4IITPzFi04Z"
      ]
    },
    "kernelspec": {
      "name": "python3",
      "display_name": "Python 3"
    },
    "language_info": {
      "name": "python"
    }
  },
  "cells": [
    {
      "cell_type": "markdown",
      "source": [
        "###1) Calcular ECM y hacer un scatter plot con la recta de regresión"
      ],
      "metadata": {
        "id": "_5lgiyEjiCGV"
      }
    },
    {
      "cell_type": "code",
      "execution_count": 1,
      "metadata": {
        "colab": {
          "base_uri": "https://localhost:8080/",
          "height": 297
        },
        "id": "boXhsIeXtQWB",
        "outputId": "63d356f2-dcf0-4149-cbfa-12fa21b6566e"
      },
      "outputs": [
        {
          "output_type": "stream",
          "name": "stdout",
          "text": [
            "El EMC es:  8.953942751950358\n"
          ]
        },
        {
          "output_type": "display_data",
          "data": {
            "text/plain": [
              "<Figure size 432x288 with 1 Axes>"
            ],
            "image/png": "[encoded data removed]"
          },
          "metadata": {
            "needs_background": "light"
          }
        }
      ],
      "source": [
        "from urllib import request\n",
        "import numpy as np\n",
        "import matplotlib.pyplot as plt\n",
        "\n",
        "example1_url=\"https://raw.githubusercontent.com/CSC-CONICET/CURSO-LEARNING1/main/datasets/mc.txt\"\n",
        "f = request.urlopen(example1_url)\n",
        "dataset = np.loadtxt(f, dtype=float, delimiter=\",\")\n",
        "\n",
        "# Genero columnas de poblacion y ganancia segun el dataset\n",
        "poblacion = np.reshape(np.array(dataset[:,0]), (len(dataset), 1))\n",
        "ganancia_real = np.reshape(np.array(dataset[:,1]), (len(dataset), 1))\n",
        "\n",
        "# Genero columna de unos\n",
        "unos = np.ones((len(dataset), 1))\n",
        "\n",
        "# Genero una matriz de 1s y la poblacion\n",
        "x = np.append(unos, poblacion, axis = 1)\n",
        "\n",
        "# Obtengo la pseudoinversa de esa matriz\n",
        "x_inv = np.linalg.pinv(x)\n",
        "\n",
        "# Calculo w estrella\n",
        "w_estrella = np.dot(np.dot(np.linalg.inv(np.dot(x.transpose(), x)), x.transpose()), ganancia_real)\n",
        "\n",
        "b = w_estrella[0]\n",
        "w = w_estrella[1]\n",
        "\n",
        "# Calculo la columna de ganancia predicha\n",
        "ganancia_predicha = np.dot(x, w_estrella)\n",
        "\n",
        "# CAlculo el error cuadratico medio\n",
        "emc = (np.square(ganancia_real - ganancia_predicha)).mean()\n",
        "print(\"El EMC es: \", emc)\n",
        "\n",
        "# Grafico\n",
        "plt.scatter(poblacion, ganancia_real, c = \"blue\")\n",
        "rg_x = np.arange(0, 25, 0.1)\n",
        "\n",
        "y = w * rg_x + b\n",
        "\n",
        "plt.plot(rg_x,y)\n",
        "plt.scatter(poblacion, ganancia_real, c= \"blue\")\n",
        "plt.xlabel(\"Poblacion\")\n",
        "plt.ylabel(\"Ganancia\")\n",
        "plt.show()"
      ]
    },
    {
      "cell_type": "markdown",
      "source": [
        "###2) Estimar la ganancia con 3.5 personas"
      ],
      "metadata": {
        "id": "wnaM4hcQiSlL"
      }
    },
    {
      "cell_type": "code",
      "source": [
        "print(\"La ganancia estimada para cuando la poblacion es 3.5 M es: \", w * 3.5 + b)"
      ],
      "metadata": {
        "colab": {
          "base_uri": "https://localhost:8080/"
        },
        "id": "MNhRRCKn9r_Y",
        "outputId": "92305597-106e-4ddd-b582-f336ff4b27f0"
      },
      "execution_count": 2,
      "outputs": [
        {
          "output_type": "stream",
          "name": "stdout",
          "text": [
            "La ganancia estimada para cuando la poblacion es 3.5 M es:  [0.27983688]\n"
          ]
        }
      ]
    },
    {
      "cell_type": "markdown",
      "source": [
        "###3) Graficar el problema de optimización en 3-D (bias - weight y Risk) para todos los theta posibles (theta es pesos)"
      ],
      "metadata": {
        "id": "Hekje5HMiXhb"
      }
    },
    {
      "cell_type": "code",
      "source": [
        "pts = 100\n",
        "theta0_vals = np.linspace(-10, 10, pts)\n",
        "theta1_vals = np.linspace(-1, 4, pts)\n",
        "J_vals = np.zeros([pts,pts])\n",
        "for i in range(pts):\n",
        "    for j in range(pts):\n",
        "      t = np.r_[theta0_vals[i], theta1_vals[j]]\n",
        "      J_vals[i,j] = np.mean((np.dot(x,t)-dataset[:,1])**2)\n",
        "\n",
        "fig = plt.figure()\n",
        "ax = plt.axes(projection='3d')\n",
        "ax.plot_surface(theta0_vals, theta1_vals, J_vals, rstride=1, cstride=1,cmap='viridis', edgecolor='none')\n",
        "ax.set_xlabel('bias')\n",
        "ax.set_ylabel('weight')\n",
        "ax.set_zlabel('cost')"
      ],
      "metadata": {
        "colab": {
          "base_uri": "https://localhost:8080/",
          "height": 266
        },
        "id": "hDTIOAtahT_m",
        "outputId": "2dfde499-ee49-4e40-d123-d69243b3c8ae"
      },
      "execution_count": 3,
      "outputs": [
        {
          "output_type": "execute_result",
          "data": {
            "text/plain": [
              "Text(0.5, 0, 'cost')"
            ]
          },
          "metadata": {},
          "execution_count": 3
        },
        {
          "output_type": "display_data",
          "data": {
            "text/plain": [
              "<Figure size 432x288 with 1 Axes>"
            ],
            "image/png": "[encoded data removed]"
          },
          "metadata": {
            "needs_background": "light"
          }
        }
      ]
    },
    {
      "cell_type": "markdown",
      "source": [
        "###4) Resolver el problema con GD"
      ],
      "metadata": {
        "id": "ykfw1wMLim_y"
      }
    },
    {
      "cell_type": "code",
      "source": [
        "import tensorflow as tf\n",
        "\n",
        "model = tf.keras.Sequential()\n",
        "model.add(tf.keras.layers.Dense(1, input_dim=1))\n",
        "\n",
        "model.summary()\n",
        "\n",
        "# Sin stopping\n",
        "\"\"\" \n",
        "model.compile(optimizer=tf.keras.optimizers.SGD(learning_rate=0.01),loss='MeanSquaredError')\n",
        "hist = model.fit(x=poblacion, y=ganancia_real, batch_size = 97, epochs= 400)\n",
        "\"\"\"\n",
        "\n",
        "# Hasta convergencia\n",
        "es = tf.keras.callbacks.EarlyStopping(monitor='loss', patience=1)                             # EarlyStopping: determino cuando pare el algoritmo\n",
        "print(es)\n",
        "\n",
        "model.compile(optimizer=tf.keras.optimizers.SGD(learning_rate=0.01), loss = 'MeanSquaredError')\n",
        "hist = model.fit(x=poblacion, y=ganancia_real, batch_size = 97, epochs=100,callbacks=[es]) # Batch_size: tamaño de la muestra\n",
        "                                                                                              # Epochs: cantidad de iteraciones que realice para entrenar\n",
        "                                                                                              # (va a terminar antes de los 100000 por el early stopping )\n",
        "losses = np.array(hist.history['loss'])                                                       # losses es una lista con los errores cometidos en cada epoch\n",
        "param = model.get_weights()\n"
      ],
      "metadata": {
        "colab": {
          "base_uri": "https://localhost:8080/"
        },
        "id": "x-gZzXFCy_Ss",
        "outputId": "7f236573-cc0d-4af6-b108-2d4eaade2b9d"
      },
      "execution_count": 14,
      "outputs": [
        {
          "output_type": "stream",
          "name": "stdout",
          "text": [
            "Model: \"sequential_6\"\n",
            "_________________________________________________________________\n",
            " Layer (type)                Output Shape              Param #   \n",
            "=================================================================\n",
            " dense_6 (Dense)             (None, 1)                 2         \n",
            "                                                                 \n",
            "=================================================================\n",
            "Total params: 2\n",
            "Trainable params: 2\n",
            "Non-trainable params: 0\n",
            "_________________________________________________________________\n",
            "<keras.callbacks.EarlyStopping object at 0x7fa4042ed590>\n",
            "Epoch 1/100\n",
            "1/1 [==============================] - 0s 175ms/step - loss: 484.0866\n",
            "Epoch 2/100\n",
            "1/1 [==============================] - 0s 8ms/step - loss: 208.0964\n",
            "Epoch 3/100\n",
            "1/1 [==============================] - 0s 10ms/step - loss: 93.4520\n",
            "Epoch 4/100\n",
            "1/1 [==============================] - 0s 8ms/step - loss: 45.8221\n",
            "Epoch 5/100\n",
            "1/1 [==============================] - 0s 8ms/step - loss: 26.0264\n",
            "Epoch 6/100\n",
            "1/1 [==============================] - 0s 5ms/step - loss: 17.7917\n",
            "Epoch 7/100\n",
            "1/1 [==============================] - 0s 5ms/step - loss: 14.3589\n",
            "Epoch 8/100\n",
            "1/1 [==============================] - 0s 5ms/step - loss: 12.9206\n",
            "Epoch 9/100\n",
            "1/1 [==============================] - 0s 4ms/step - loss: 12.3108\n",
            "Epoch 10/100\n",
            "1/1 [==============================] - 0s 5ms/step - loss: 12.0452\n",
            "Epoch 11/100\n",
            "1/1 [==============================] - 0s 4ms/step - loss: 11.9227\n",
            "Epoch 12/100\n",
            "1/1 [==============================] - 0s 5ms/step - loss: 11.8597\n",
            "Epoch 13/100\n",
            "1/1 [==============================] - 0s 4ms/step - loss: 11.8215\n",
            "Epoch 14/100\n",
            "1/1 [==============================] - 0s 4ms/step - loss: 11.7937\n",
            "Epoch 15/100\n",
            "1/1 [==============================] - 0s 5ms/step - loss: 11.7703\n",
            "Epoch 16/100\n",
            "1/1 [==============================] - 0s 5ms/step - loss: 11.7487\n",
            "Epoch 17/100\n",
            "1/1 [==============================] - 0s 4ms/step - loss: 11.7281\n",
            "Epoch 18/100\n",
            "1/1 [==============================] - 0s 6ms/step - loss: 11.7079\n",
            "Epoch 19/100\n",
            "1/1 [==============================] - 0s 4ms/step - loss: 11.6880\n",
            "Epoch 20/100\n",
            "1/1 [==============================] - 0s 4ms/step - loss: 11.6683\n",
            "Epoch 21/100\n",
            "1/1 [==============================] - 0s 4ms/step - loss: 11.6488\n",
            "Epoch 22/100\n",
            "1/1 [==============================] - 0s 4ms/step - loss: 11.6294\n",
            "Epoch 23/100\n",
            "1/1 [==============================] - 0s 4ms/step - loss: 11.6101\n",
            "Epoch 24/100\n",
            "1/1 [==============================] - 0s 4ms/step - loss: 11.5910\n",
            "Epoch 25/100\n",
            "1/1 [==============================] - 0s 4ms/step - loss: 11.5720\n",
            "Epoch 26/100\n",
            "1/1 [==============================] - 0s 4ms/step - loss: 11.5532\n",
            "Epoch 27/100\n",
            "1/1 [==============================] - 0s 4ms/step - loss: 11.5344\n",
            "Epoch 28/100\n",
            "1/1 [==============================] - 0s 5ms/step - loss: 11.5159\n",
            "Epoch 29/100\n",
            "1/1 [==============================] - 0s 4ms/step - loss: 11.4974\n",
            "Epoch 30/100\n",
            "1/1 [==============================] - 0s 4ms/step - loss: 11.4791\n",
            "Epoch 31/100\n",
            "1/1 [==============================] - 0s 7ms/step - loss: 11.4610\n",
            "Epoch 32/100\n",
            "1/1 [==============================] - 0s 4ms/step - loss: 11.4429\n",
            "Epoch 33/100\n",
            "1/1 [==============================] - 0s 4ms/step - loss: 11.4250\n",
            "Epoch 34/100\n",
            "1/1 [==============================] - 0s 4ms/step - loss: 11.4072\n",
            "Epoch 35/100\n",
            "1/1 [==============================] - 0s 4ms/step - loss: 11.3896\n",
            "Epoch 36/100\n",
            "1/1 [==============================] - 0s 5ms/step - loss: 11.3720\n",
            "Epoch 37/100\n",
            "1/1 [==============================] - 0s 5ms/step - loss: 11.3546\n",
            "Epoch 38/100\n",
            "1/1 [==============================] - 0s 4ms/step - loss: 11.3373\n",
            "Epoch 39/100\n",
            "1/1 [==============================] - 0s 4ms/step - loss: 11.3202\n",
            "Epoch 40/100\n",
            "1/1 [==============================] - 0s 4ms/step - loss: 11.3032\n",
            "Epoch 41/100\n",
            "1/1 [==============================] - 0s 4ms/step - loss: 11.2862\n",
            "Epoch 42/100\n",
            "1/1 [==============================] - 0s 4ms/step - loss: 11.2695\n",
            "Epoch 43/100\n",
            "1/1 [==============================] - 0s 4ms/step - loss: 11.2528\n",
            "Epoch 44/100\n",
            "1/1 [==============================] - 0s 4ms/step - loss: 11.2362\n",
            "Epoch 45/100\n",
            "1/1 [==============================] - 0s 4ms/step - loss: 11.2198\n",
            "Epoch 46/100\n",
            "1/1 [==============================] - 0s 4ms/step - loss: 11.2035\n",
            "Epoch 47/100\n",
            "1/1 [==============================] - 0s 4ms/step - loss: 11.1873\n",
            "Epoch 48/100\n",
            "1/1 [==============================] - 0s 4ms/step - loss: 11.1712\n",
            "Epoch 49/100\n",
            "1/1 [==============================] - 0s 3ms/step - loss: 11.1553\n",
            "Epoch 50/100\n",
            "1/1 [==============================] - 0s 4ms/step - loss: 11.1394\n",
            "Epoch 51/100\n",
            "1/1 [==============================] - 0s 4ms/step - loss: 11.1237\n",
            "Epoch 52/100\n",
            "1/1 [==============================] - 0s 4ms/step - loss: 11.1081\n",
            "Epoch 53/100\n",
            "1/1 [==============================] - 0s 4ms/step - loss: 11.0926\n",
            "Epoch 54/100\n",
            "1/1 [==============================] - 0s 5ms/step - loss: 11.0772\n",
            "Epoch 55/100\n",
            "1/1 [==============================] - 0s 4ms/step - loss: 11.0619\n",
            "Epoch 56/100\n",
            "1/1 [==============================] - 0s 4ms/step - loss: 11.0467\n",
            "Epoch 57/100\n",
            "1/1 [==============================] - 0s 6ms/step - loss: 11.0317\n",
            "Epoch 58/100\n",
            "1/1 [==============================] - 0s 4ms/step - loss: 11.0167\n",
            "Epoch 59/100\n",
            "1/1 [==============================] - 0s 4ms/step - loss: 11.0019\n",
            "Epoch 60/100\n",
            "1/1 [==============================] - 0s 4ms/step - loss: 10.9871\n",
            "Epoch 61/100\n",
            "1/1 [==============================] - 0s 4ms/step - loss: 10.9725\n",
            "Epoch 62/100\n",
            "1/1 [==============================] - 0s 8ms/step - loss: 10.9580\n",
            "Epoch 63/100\n",
            "1/1 [==============================] - 0s 5ms/step - loss: 10.9436\n",
            "Epoch 64/100\n",
            "1/1 [==============================] - 0s 4ms/step - loss: 10.9292\n",
            "Epoch 65/100\n",
            "1/1 [==============================] - 0s 5ms/step - loss: 10.9150\n",
            "Epoch 66/100\n",
            "1/1 [==============================] - 0s 4ms/step - loss: 10.9009\n",
            "Epoch 67/100\n",
            "1/1 [==============================] - 0s 4ms/step - loss: 10.8869\n",
            "Epoch 68/100\n",
            "1/1 [==============================] - 0s 4ms/step - loss: 10.8730\n",
            "Epoch 69/100\n",
            "1/1 [==============================] - 0s 5ms/step - loss: 10.8592\n",
            "Epoch 70/100\n",
            "1/1 [==============================] - 0s 5ms/step - loss: 10.8455\n",
            "Epoch 71/100\n",
            "1/1 [==============================] - 0s 9ms/step - loss: 10.8318\n",
            "Epoch 72/100\n",
            "1/1 [==============================] - 0s 4ms/step - loss: 10.8183\n",
            "Epoch 73/100\n",
            "1/1 [==============================] - 0s 4ms/step - loss: 10.8049\n",
            "Epoch 74/100\n",
            "1/1 [==============================] - 0s 4ms/step - loss: 10.7916\n",
            "Epoch 75/100\n",
            "1/1 [==============================] - 0s 4ms/step - loss: 10.7784\n",
            "Epoch 76/100\n",
            "1/1 [==============================] - 0s 4ms/step - loss: 10.7652\n",
            "Epoch 77/100\n",
            "1/1 [==============================] - 0s 5ms/step - loss: 10.7522\n",
            "Epoch 78/100\n",
            "1/1 [==============================] - 0s 5ms/step - loss: 10.7392\n",
            "Epoch 79/100\n",
            "1/1 [==============================] - 0s 6ms/step - loss: 10.7264\n",
            "Epoch 80/100\n",
            "1/1 [==============================] - 0s 5ms/step - loss: 10.7136\n",
            "Epoch 81/100\n",
            "1/1 [==============================] - 0s 5ms/step - loss: 10.7010\n",
            "Epoch 82/100\n",
            "1/1 [==============================] - 0s 4ms/step - loss: 10.6884\n",
            "Epoch 83/100\n",
            "1/1 [==============================] - 0s 4ms/step - loss: 10.6759\n",
            "Epoch 84/100\n",
            "1/1 [==============================] - 0s 4ms/step - loss: 10.6635\n",
            "Epoch 85/100\n",
            "1/1 [==============================] - 0s 4ms/step - loss: 10.6512\n",
            "Epoch 86/100\n",
            "1/1 [==============================] - 0s 5ms/step - loss: 10.6390\n",
            "Epoch 87/100\n",
            "1/1 [==============================] - 0s 5ms/step - loss: 10.6269\n",
            "Epoch 88/100\n",
            "1/1 [==============================] - 0s 6ms/step - loss: 10.6148\n",
            "Epoch 89/100\n",
            "1/1 [==============================] - 0s 4ms/step - loss: 10.6029\n",
            "Epoch 90/100\n",
            "1/1 [==============================] - 0s 4ms/step - loss: 10.5910\n",
            "Epoch 91/100\n",
            "1/1 [==============================] - 0s 4ms/step - loss: 10.5792\n",
            "Epoch 92/100\n",
            "1/1 [==============================] - 0s 4ms/step - loss: 10.5675\n",
            "Epoch 93/100\n",
            "1/1 [==============================] - 0s 5ms/step - loss: 10.5559\n",
            "Epoch 94/100\n",
            "1/1 [==============================] - 0s 5ms/step - loss: 10.5444\n",
            "Epoch 95/100\n",
            "1/1 [==============================] - 0s 4ms/step - loss: 10.5329\n",
            "Epoch 96/100\n",
            "1/1 [==============================] - 0s 5ms/step - loss: 10.5216\n",
            "Epoch 97/100\n",
            "1/1 [==============================] - 0s 5ms/step - loss: 10.5103\n",
            "Epoch 98/100\n",
            "1/1 [==============================] - 0s 4ms/step - loss: 10.4991\n",
            "Epoch 99/100\n",
            "1/1 [==============================] - 0s 4ms/step - loss: 10.4880\n",
            "Epoch 100/100\n",
            "1/1 [==============================] - 0s 4ms/step - loss: 10.4769\n"
          ]
        }
      ]
    },
    {
      "cell_type": "markdown",
      "source": [
        "###5) Plotear riesgo vs epochs"
      ],
      "metadata": {
        "id": "E4IITPzFi04Z"
      }
    },
    {
      "cell_type": "code",
      "source": [
        "# Grafico de riesgo (loss - emc) vs epoch\n",
        "epochs = np.arange(1, 101, 1)\n",
        "plt.plot(epochs,losses)\n",
        "plt.xlabel(\"Epoch\")\n",
        "plt.ylabel(\"Loss\")\n",
        "plt.show()"
      ],
      "metadata": {
        "colab": {
          "base_uri": "https://localhost:8080/",
          "height": 280
        },
        "id": "X5L9Lpjki35g",
        "outputId": "7e2f9ce1-c44d-4d0d-be29-d96cf7c1bf1a"
      },
      "execution_count": 15,
      "outputs": [
        {
          "output_type": "display_data",
          "data": {
            "text/plain": [
              "<Figure size 432x288 with 1 Axes>"
            ],
            "image/png": "[encoded data removed]"
          },
          "metadata": {
            "needs_background": "light"
          }
        }
      ]
    },
    {
      "cell_type": "markdown",
      "source": [
        "###6) Chequear el LR òptimo y predecir\n",
        "\n"
      ],
      "metadata": {
        "id": "nRf1qTTui5NB"
      }
    },
    {
      "cell_type": "markdown",
      "source": [
        "El LR óptimo es de 0.01"
      ],
      "metadata": {
        "id": "ZA6H7LiSdpmV"
      }
    },
    {
      "cell_type": "code",
      "source": [
        "prediction = model.predict(x=np.array([3.5]))                                                   # Predice la ganancia cuando la poblacion es 3.5 M\n",
        "print(prediction)"
      ],
      "metadata": {
        "colab": {
          "base_uri": "https://localhost:8080/"
        },
        "id": "EbggwvRZjC7S",
        "outputId": "d0b4023f-eedc-4174-9269-3617cb71338b"
      },
      "execution_count": 16,
      "outputs": [
        {
          "output_type": "stream",
          "name": "stdout",
          "text": [
            "1/1 [==============================] - 0s 33ms/step\n",
            "[[2.1482997]]\n"
          ]
        }
      ]
    }
  ]
}